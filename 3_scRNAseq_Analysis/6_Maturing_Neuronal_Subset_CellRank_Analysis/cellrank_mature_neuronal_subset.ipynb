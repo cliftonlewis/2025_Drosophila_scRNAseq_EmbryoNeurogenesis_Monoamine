{
 "cells": [
  {
   "cell_type": "markdown",
   "id": "a279aa53",
   "metadata": {},
   "source": [
    "# Drosophila Mature Neuronal Subset - CellRank Analysis"
   ]
  },
  {
   "cell_type": "code",
   "execution_count": null,
   "id": "d6453f3e",
   "metadata": {},
   "outputs": [],
   "source": [
    "# =============================================================================\n",
    "# Import Necessary Packages\n",
    "# ============================================================================="
   ]
  },
  {
   "cell_type": "code",
   "execution_count": null,
   "id": "efc40849",
   "metadata": {},
   "outputs": [],
   "source": [
    "import os\n",
    "import numpy as np\n",
    "import pandas as pd\n",
    "import scanpy as sc\n",
    "import anndata as ad\n",
    "import cellrank as cr\n",
    "import scvelo as scv\n",
    "import pickle"
   ]
  },
  {
   "cell_type": "code",
   "execution_count": null,
   "id": "8d2cec08",
   "metadata": {},
   "outputs": [],
   "source": [
    "# Additional packages for plotting, logging, etc.\n",
    "import seaborn as sns\n",
    "import matplotlib.pyplot as plt\n",
    "import re\n",
    "import logging\n",
    "from scipy.stats import median_abs_deviation\n",
    "import warnings"
   ]
  },
  {
   "cell_type": "code",
   "execution_count": null,
   "id": "acba0f97",
   "metadata": {},
   "outputs": [],
   "source": [
    "# =============================================================================\n",
    "# Initialise Environment Settings\n",
    "# ============================================================================="
   ]
  },
  {
   "cell_type": "code",
   "execution_count": null,
   "id": "3a3691ca",
   "metadata": {},
   "outputs": [],
   "source": [
    "# Set random seed for reproducibility\n",
    "np.random.seed(12345)"
   ]
  },
  {
   "cell_type": "code",
   "execution_count": null,
   "id": "399b09f8",
   "metadata": {},
   "outputs": [],
   "source": [
    "# Set working directory\n",
    "working_directory = \"/DataDrives/Drive2/Clifton/R_Projects/2025_Drosophila_scRNAseq_MonoamineSpecification/ANALYSIS/Step_4_CellRank/Step_4.2_Mature_neuronal_subset_analysis\"\n",
    "os.chdir(working_directory)\n",
    "print(f\"Current working directory: {os.getcwd()}\")"
   ]
  },
  {
   "cell_type": "code",
   "execution_count": null,
   "id": "560c1f11",
   "metadata": {},
   "outputs": [],
   "source": [
    "# Configure Scanpy settings: verbosity, logging header, and figure parameters.\n",
    "sc.settings.verbosity = 3\n",
    "sc.logging.print_header()"
   ]
  },
  {
   "cell_type": "code",
   "execution_count": null,
   "id": "189a87d7",
   "metadata": {},
   "outputs": [],
   "source": [
    "# Configure cellrank settings and suppress specified warnings\n",
    "cr.settings.verbosity = 3\n",
    "warnings.simplefilter(\"ignore\", category=UserWarning)"
   ]
  },
  {
   "cell_type": "code",
   "execution_count": null,
   "id": "8f578425",
   "metadata": {},
   "outputs": [],
   "source": [
    "# Configure scVelo settings\n",
    "scv.settings.verbosity = 3\n",
    "scv.settings.set_figure_params(\"scvelo\")"
   ]
  },
  {
   "cell_type": "code",
   "execution_count": null,
   "id": "92a402ec",
   "metadata": {},
   "outputs": [],
   "source": [
    "# =============================================================================\n",
    "# Load Data\n",
    "# ============================================================================="
   ]
  },
  {
   "cell_type": "code",
   "execution_count": null,
   "id": "105c1c71",
   "metadata": {},
   "outputs": [],
   "source": [
    "# List of shared cell types\n",
    "shared_cell_types = [\n",
    "    \"Acetylcholine\",\n",
    "    \"Acetylcholine/GABA\",\n",
    "    \"GABA\",\n",
    "    \"GABA/Glutamate\",\n",
    "    \"GABA/Serotonin\",\n",
    "    \"Glutamate\",\n",
    "    \"Serotonin\",\n",
    "    \"Serotonin/GABA\",\n",
    "    \"Monoamine\",\n",
    "    \"Monoamine/Acetylcholine\",\n",
    "    \"Monoamine/Serotonin\",\n",
    "    \"Monoamine/GABA\",\n",
    "    \"Immature_neurons\",\n",
    "    \"New-born_neurons/Immature_neurons\",\n",
    "    \"Unknown_mature_neurons\",\n",
    "    \"Neuroblasts\",\n",
    "    \"Neuroblasts/GMCs\",\n",
    "    \"Neuroblasts/GMCs/Immature_neurons\",\n",
    "    \"GMCs\",\n",
    "    \"GMCs/New-born_neurons/Immature_neurons\",\n",
    "    \"Neuroblasts/GMCs/New-born_neurons/Immature_neurons\",\n",
    "    \"Unknown\"\n",
    "]\n",
    "\n",
    "# Dictionary mapping cell types to colors\n",
    "shared_color_palette = {\n",
    "    # Acetylcholine-related\n",
    "    \"Acetylcholine\": \"#FFD700\",  # vivid gold\n",
    "    \"Acetylcholine/GABA\": \"#FFEE58\",  # sunflower yellow\n",
    "\n",
    "    # GABA-related\n",
    "    \"GABA\": \"#B71C1C\",  # dark red\n",
    "    \"GABA/Glutamate\": \"#D84315\",  # burnt orange-red\n",
    "    \"GABA/Serotonin\": \"#F06292\",  # deep pink\n",
    "    \"Serotonin/GABA\": \"#E91E63\",  # strong pink-rose\n",
    "    \"Monoamine/GABA\": \"#EF5350\",  # soft red-pink\n",
    "\n",
    "    # Glutamate-related\n",
    "    \"Glutamate\": \"#43A047\",  # strong green\n",
    "\n",
    "    # Serotonin-related\n",
    "    \"Serotonin\": \"#8E24AA\",  # deep purple\n",
    "\n",
    "    # Monoamine-related\n",
    "    \"Monoamine\": \"#FB8C00\",  # bright orange\n",
    "    \"Monoamine/Acetylcholine\": \"#FFA726\",  # soft orange\n",
    "    \"Monoamine/Serotonin\": \"#FF7043\",  # orange-coral\n",
    "\n",
    "    # Neuroblasts & GMCs\n",
    "    \"Neuroblasts\": \"#1565C0\",  # cobalt blue\n",
    "    \"Neuroblasts/GMCs\": \"#1E88E5\",  # vivid blue\n",
    "    \"Neuroblasts/GMCs/Immature_neurons\": \"#64B5F6\",  # sky blue\n",
    "    \"GMCs\": \"#0D47A1\",  # navy\n",
    "    \"GMCs/New-born_neurons/Immature_neurons\": \"#1976D2\",  # medium blue\n",
    "    \"Neuroblasts/GMCs/New-born_neurons/Immature_neurons\": \"#90CAF9\",  # pale blue\n",
    "\n",
    "    # Developmental/Immature/Unknown\n",
    "    \"Immature_neurons\": \"#29B6F6\",  # bright cyan\n",
    "    \"New-born_neurons/Immature_neurons\": \"#4DD0E1\",  # teal\n",
    "    \"Unknown_mature_neurons\": \"#757575\",  # neutral gray\n",
    "    \"Unknown\": \"#BDBDBD\"  # light gray\n",
    "}"
   ]
  },
  {
   "cell_type": "code",
   "execution_count": null,
   "id": "49ecea1b",
   "metadata": {},
   "outputs": [],
   "source": [
    "# Load the processed AnnData object (scVelo-processed subset)\n",
    "adata = sc.read_h5ad(\"4_Velocity_scVelo_processed_subset.h5ad\")"
   ]
  },
  {
   "cell_type": "code",
   "execution_count": null,
   "id": "fb3a8126",
   "metadata": {},
   "outputs": [],
   "source": [
    "adata"
   ]
  },
  {
   "cell_type": "code",
   "execution_count": null,
   "id": "e83c966f",
   "metadata": {},
   "outputs": [],
   "source": [
    "# =============================================================================\n",
    "# Parse and Order Timepoint Data\n",
    "# ============================================================================="
   ]
  },
  {
   "cell_type": "code",
   "execution_count": null,
   "id": "921013ec",
   "metadata": {},
   "outputs": [],
   "source": [
    "def parse_timepoint(tp):\n",
    "    \"\"\"\n",
    "    Convert a timepoint string to a numerical value.\n",
    "    \n",
    "    Expects strings like \"hrs_00_03\" and returns the midpoint,\n",
    "    e.g., (0 + 3)/2 = 1.5.\n",
    "    \n",
    "    Parameters:\n",
    "        tp (str): A timepoint string.\n",
    "        \n",
    "    Returns:\n",
    "        float: The computed midpoint or NaN if conversion fails.\n",
    "    \"\"\"\n",
    "    # Remove the \"hrs_\" prefix if present.\n",
    "    if tp.startswith(\"hrs_\"):\n",
    "        tp = tp[len(\"hrs_\"):]\n",
    "    # Split the remaining string by underscore.\n",
    "    parts = tp.split(\"_\")\n",
    "    try:\n",
    "        # Convert each part to float.\n",
    "        nums = [float(part) for part in parts]\n",
    "    except ValueError:\n",
    "        return np.nan  # Return NaN if conversion fails\n",
    "    # Compute and return the mean of the numbers (midpoint)\n",
    "    return np.mean(nums) if len(nums) > 0 else np.nan"
   ]
  },
  {
   "cell_type": "code",
   "execution_count": null,
   "id": "517e1767",
   "metadata": {},
   "outputs": [],
   "source": [
    "# Apply the parse_timepoint function to create a new numerical column.\n",
    "adata.obs[\"timepoint_numerical\"] = adata.obs[\"timepoint\"].apply(parse_timepoint)"
   ]
  },
  {
   "cell_type": "code",
   "execution_count": null,
   "id": "ebe4df83",
   "metadata": {},
   "outputs": [],
   "source": [
    "# Group by the original timepoint and determine the first numerical value per group.\n",
    "# Then sort the timepoints according to their numerical midpoints.\n",
    "ordered_categories = (\n",
    "    adata.obs.groupby(\"timepoint\")[\"timepoint_numerical\"]\n",
    "    .first()\n",
    "    .sort_values()\n",
    "    .index\n",
    "    .tolist()\n",
    ")"
   ]
  },
  {
   "cell_type": "code",
   "execution_count": null,
   "id": "6cbd45ac",
   "metadata": {},
   "outputs": [],
   "source": [
    "# Update the \"timepoint\" column to be an ordered categorical variable.\n",
    "adata.obs[\"timepoint\"] = pd.Categorical(\n",
    "    adata.obs[\"timepoint\"],\n",
    "    categories=ordered_categories,\n",
    "    ordered=True\n",
    ")"
   ]
  },
  {
   "cell_type": "code",
   "execution_count": null,
   "id": "12dc3376",
   "metadata": {},
   "outputs": [],
   "source": [
    "# Print the ordered timepoints and inspect a few numerical values.\n",
    "print(\"Ordered timepoint categories:\", ordered_categories)\n",
    "print(adata.obs[\"timepoint_numerical\"].head())\n",
    "print(adata.obs[[\"timepoint\", \"timepoint_numerical\"]].drop_duplicates())"
   ]
  },
  {
   "cell_type": "code",
   "execution_count": null,
   "id": "04546988",
   "metadata": {},
   "outputs": [],
   "source": [
    "# =============================================================================\n",
    "# Save the Updated AnnData Object\n",
    "# ============================================================================="
   ]
  },
  {
   "cell_type": "code",
   "execution_count": null,
   "id": "3aca8e27",
   "metadata": {},
   "outputs": [],
   "source": [
    "# Write the updated AnnData object to file for subsequent analyses.\n",
    "adata.write(\"1_CellRank_Starting_Data_subset.h5ad\")"
   ]
  },
  {
   "cell_type": "code",
   "execution_count": null,
   "id": "03141fb0",
   "metadata": {},
   "outputs": [],
   "source": [
    "# (Reload the object to ensure the saved version is used)\n",
    "adata = sc.read_h5ad(\"1_CellRank_Starting_Data_subset.h5ad\")"
   ]
  },
  {
   "cell_type": "code",
   "execution_count": null,
   "id": "c0a9e66b",
   "metadata": {},
   "outputs": [],
   "source": [
    "# =============================================================================\n",
    "# UMAP Visualizations\n",
    "# ============================================================================="
   ]
  },
  {
   "cell_type": "code",
   "execution_count": null,
   "id": "40a5daec",
   "metadata": {},
   "outputs": [],
   "source": [
    "# Plot the UMAP embedding colored by neuronal_annotation_fine.\n",
    "sc.pl.embedding(\n",
    "    adata, \n",
    "    basis='X_umap', \n",
    "    color=\"neuronal_annotation_fine\", \n",
    "    legend_loc='right margin', \n",
    "    size=80, \n",
    "    save='CR_mature_neuronal_subset_annotation.svg'\n",
    ")\n",
    "sc.pl.embedding(\n",
    "    adata, \n",
    "    basis='X_umap', \n",
    "    color=\"neuronal_annotation_fine\", \n",
    "    legend_loc='right margin', \n",
    "    size=80, \n",
    "    save='CR_mature_neuronal_subset_annotation.pdf'\n",
    ")"
   ]
  },
  {
   "cell_type": "code",
   "execution_count": null,
   "id": "4ad45f7d",
   "metadata": {},
   "outputs": [],
   "source": [
    "# Plot the UMAP embedding colored by latent time.\n",
    "sc.pl.embedding(\n",
    "    adata, \n",
    "    basis='X_umap', \n",
    "    color=\"latent_time\", \n",
    "    size=80, \n",
    "    save='CR_mature_neuronal_subset_latent_time.svg'\n",
    ")\n",
    "sc.pl.embedding(\n",
    "    adata, \n",
    "    basis='X_umap', \n",
    "    color=\"latent_time\", \n",
    "    size=80, \n",
    "    save='CR_mature_neuronal_subset_latent_time.pdf'\n",
    ")"
   ]
  },
  {
   "cell_type": "code",
   "execution_count": null,
   "id": "7a9fc008",
   "metadata": {},
   "outputs": [],
   "source": [
    "# =============================================================================\n",
    "# Connectivity Kernel Computations\n",
    "# ============================================================================="
   ]
  },
  {
   "cell_type": "code",
   "execution_count": null,
   "id": "b8820043",
   "metadata": {},
   "outputs": [],
   "source": [
    "adata = sc.read_h5ad(\"1_CellRank_Starting_Data_subset.h5ad\")"
   ]
  },
  {
   "cell_type": "code",
   "execution_count": null,
   "id": "9e116a2a",
   "metadata": {},
   "outputs": [],
   "source": [
    "# Create and compute a ConnectivityKernel based on cell-cell connectivity.\n",
    "from cellrank.kernels import ConnectivityKernel\n",
    "ck = ConnectivityKernel(adata)\n",
    "ck = ck.compute_transition_matrix()"
   ]
  },
  {
   "cell_type": "code",
   "execution_count": null,
   "id": "880d3544",
   "metadata": {},
   "outputs": [],
   "source": [
    "# Plot random walks using the ConnectivityKernel.\n",
    "ck.plot_random_walks(\n",
    "    seed=0,\n",
    "    n_sims=200,\n",
    "    start_ixs={\"timepoint\": \"hrs_00_03\"},\n",
    "    basis=\"X_umap\",\n",
    "    legend_loc=\"right\",\n",
    "    dpi=300,\n",
    "    save='CR_mature_neuronal_subset_ConnectivityKernel_RandWalks.svg'\n",
    ")"
   ]
  },
  {
   "cell_type": "code",
   "execution_count": null,
   "id": "759c3b94",
   "metadata": {},
   "outputs": [],
   "source": [
    "# Write the connectivity kernel into the AnnData object and save.\n",
    "ck.write_to_adata()\n",
    "adata.write(\"MNsubset_ConnectvityKernel.h5ad\")"
   ]
  },
  {
   "cell_type": "code",
   "execution_count": null,
   "id": "dd7c0e52",
   "metadata": {},
   "outputs": [],
   "source": [
    "# Reload the object and instantiate the kernel from it.\n",
    "adata = sc.read(\"MNsubset_ConnectvityKernel.h5ad\")\n",
    "ck = cr.kernels.ConnectivityKernel.from_adata(adata, key=\"T_fwd\")\n",
    "print(ck)"
   ]
  },
  {
   "cell_type": "code",
   "execution_count": null,
   "id": "e20cf294",
   "metadata": {},
   "outputs": [],
   "source": [
    "# =============================================================================\n",
    "# Velocity Kernel Computations\n",
    "# ============================================================================="
   ]
  },
  {
   "cell_type": "code",
   "execution_count": null,
   "id": "ba7e6bb8",
   "metadata": {},
   "outputs": [],
   "source": [
    "adata = sc.read_h5ad(\"1_CellRank_Starting_Data_subset.h5ad\")"
   ]
  },
  {
   "cell_type": "code",
   "execution_count": null,
   "id": "5bc71112",
   "metadata": {},
   "outputs": [],
   "source": [
    "# Compute a VelocityKernel from the AnnData object.\n",
    "vk = cr.kernels.VelocityKernel(adata)\n",
    "vk = vk.compute_transition_matrix(model='deterministic', show_progress_bar=True)"
   ]
  },
  {
   "cell_type": "code",
   "execution_count": null,
   "id": "c49fcea4",
   "metadata": {},
   "outputs": [],
   "source": [
    "# Plot the VelocityKernel projection colored by latent time.\n",
    "vk.plot_projection(\n",
    "    basis='X_umap', \n",
    "    color='latent_time', \n",
    "    color_map='gnuplot', \n",
    "    size=80, \n",
    "    dpi=300,\n",
    "    save='CR_mature_neuronal_subset_VelocityKernel_latenttime.svg'\n",
    ")\n",
    "vk.plot_projection(\n",
    "    basis='X_umap', \n",
    "    color='latent_time', \n",
    "    color_map='gnuplot', \n",
    "    size=80, \n",
    "    dpi=300,\n",
    "    save='CR_mature_neuronal_subset_VelocityKernel_latenttime.pdf'\n",
    ")"
   ]
  },
  {
   "cell_type": "code",
   "execution_count": null,
   "id": "ddbc0a60",
   "metadata": {},
   "outputs": [],
   "source": [
    "# Plot random walks based on the VelocityKernel.\n",
    "vk.plot_random_walks(\n",
    "    seed=0,\n",
    "    n_sims=200,\n",
    "    start_ixs={\"timepoint\": \"hrs_00_03\"},\n",
    "    basis=\"X_umap\",\n",
    "    legend_loc=\"right\",\n",
    "    dpi=300,\n",
    "    save='CR_mature_neuronal_subset_VelocityKernel_RandWalks.svg'\n",
    ")"
   ]
  },
  {
   "cell_type": "code",
   "execution_count": null,
   "id": "99da53b1",
   "metadata": {},
   "outputs": [],
   "source": [
    "# Write the VelocityKernel to AnnData and save.\n",
    "vk.write_to_adata()\n",
    "adata.write(\"MNsubset_VelocityKernel.h5ad\")\n",
    "adata = sc.read(\"MNsubset_VelocityKernel.h5ad\")\n",
    "vk = cr.kernels.VelocityKernel.from_adata(adata, key=\"T_fwd\")\n",
    "print(vk)"
   ]
  },
  {
   "cell_type": "code",
   "execution_count": null,
   "id": "8cc52cbd",
   "metadata": {},
   "outputs": [],
   "source": [
    "# =============================================================================\n",
    "# CytoTRACE Kernel Computations\n",
    "# ============================================================================="
   ]
  },
  {
   "cell_type": "code",
   "execution_count": null,
   "id": "2af773ce",
   "metadata": {},
   "outputs": [],
   "source": [
    "adata = sc.read_h5ad(\"1_CellRank_Starting_Data_subset.h5ad\")"
   ]
  },
  {
   "cell_type": "code",
   "execution_count": null,
   "id": "2e904ca4",
   "metadata": {},
   "outputs": [],
   "source": [
    "adata"
   ]
  },
  {
   "cell_type": "code",
   "execution_count": null,
   "id": "b98eabef",
   "metadata": {},
   "outputs": [],
   "source": [
    "# Compute a CytoTRACEKernel.\n",
    "from cellrank.kernels import CytoTRACEKernel\n",
    "ctk = CytoTRACEKernel(adata)\n",
    "ctk = ctk.compute_cytotrace()"
   ]
  },
  {
   "cell_type": "code",
   "execution_count": null,
   "id": "86cf8784",
   "metadata": {},
   "outputs": [],
   "source": [
    "# Plot embedding colored by CytoTRACE pseudotime and timepoint.\n",
    "sc.pl.embedding(\n",
    "    adata,\n",
    "    color=[\"ct_pseudotime\", \"timepoint\"],\n",
    "    basis=\"X_umap\",\n",
    "    color_map=\"gnuplot2\",\n",
    "    save='CR_mature_neuronal_subset_CytoTRACEKerneltimepoint.svg'\n",
    ")"
   ]
  },
  {
   "cell_type": "code",
   "execution_count": null,
   "id": "40ff83c4",
   "metadata": {},
   "outputs": [],
   "source": [
    "# Violin plot for CytoTRACE pseudotime across timepoints.\n",
    "sc.pl.violin(\n",
    "    adata, \n",
    "    keys=[\"ct_pseudotime\"], \n",
    "    groupby=\"timepoint\", \n",
    "    rotation=90,\n",
    "    save='CR_mature_neuronal_subset_vlnplt_CytoTRACEKerneltimepoint.svg'\n",
    ")"
   ]
  },
  {
   "cell_type": "code",
   "execution_count": null,
   "id": "9f46cfbe",
   "metadata": {},
   "outputs": [],
   "source": [
    "# Compute transition matrix with a soft threshold using CytoTRACEKernel.\n",
    "ctk.compute_transition_matrix(threshold_scheme=\"soft\", nu=0.5)"
   ]
  },
  {
   "cell_type": "code",
   "execution_count": null,
   "id": "79b232c7",
   "metadata": {},
   "outputs": [],
   "source": [
    "# Plot CytoTRACEKernel projection (colored by timepoint).\n",
    "ctk.plot_projection(\n",
    "    basis=\"X_umap\", \n",
    "    color=\"timepoint\", \n",
    "    legend_loc=\"right\",\n",
    "    size=80, \n",
    "    dpi=300, \n",
    "    save='CR_mature_neuronal_subset_CytoTRACEKernel_timepoint.svg'\n",
    ")"
   ]
  },
  {
   "cell_type": "code",
   "execution_count": null,
   "id": "7eb088f0",
   "metadata": {},
   "outputs": [],
   "source": [
    "# Plot random walks based on the CytoTRACEKernel.\n",
    "ctk.plot_random_walks(\n",
    "    seed=0,\n",
    "    n_sims=200,\n",
    "    start_ixs={\"timepoint\": \"hrs_00_03\"},\n",
    "    basis=\"X_umap\",\n",
    "    legend_loc=\"right\",\n",
    "    dpi=300,\n",
    "    save='CR_mature_neuronal_subset_CytoTRACEKernel_RandWalks.svg'\n",
    ")"
   ]
  },
  {
   "cell_type": "code",
   "execution_count": null,
   "id": "9dabb1ba",
   "metadata": {},
   "outputs": [],
   "source": [
    "# Write the CytoTRACE kernel to AnnData and save.\n",
    "ctk.write_to_adata()\n",
    "adata.write(\"MNsubset_CytoTRACEKernel.h5ad\")\n",
    "adata = sc.read(\"MNsubset_CytoTRACEKernel.h5ad\")\n",
    "ctk = cr.kernels.CytoTRACEKernel.from_adata(adata, key=\"T_fwd\")\n",
    "print(ctk)"
   ]
  },
  {
   "cell_type": "code",
   "execution_count": null,
   "id": "5b35f2a2",
   "metadata": {},
   "outputs": [],
   "source": [
    "# =============================================================================\n",
    "# RealTime Kernel Computations\n",
    "# ============================================================================="
   ]
  },
  {
   "cell_type": "code",
   "execution_count": null,
   "id": "21852b81",
   "metadata": {},
   "outputs": [],
   "source": [
    "# Reload the original starting AnnData object.\n",
    "adata = sc.read_h5ad(\"1_CellRank_Starting_Data_subset.h5ad\")"
   ]
  },
  {
   "cell_type": "code",
   "execution_count": null,
   "id": "e4934a93",
   "metadata": {},
   "outputs": [],
   "source": [
    "# Visualize embedding colored by numerical timepoint and neuronal annotation.\n",
    "sc.pl.embedding(\n",
    "    adata,\n",
    "    basis=\"X_umap\",\n",
    "    color=[\"timepoint_numerical\", \"neuronal_annotation_fine\"],\n",
    "    color_map=\"gnuplot\",\n",
    ")"
   ]
  },
  {
   "cell_type": "code",
   "execution_count": null,
   "id": "c3ec9340",
   "metadata": {},
   "outputs": [],
   "source": [
    "# Prepare and solve the temporal problem.\n",
    "tp = TemporalProblem(adata)\n",
    "tp = tp.prepare(time_key=\"timepoint\")\n",
    "tp = tp.solve(epsilon=1e-3, tau_a=0.95, scale_cost=\"mean\")"
   ]
  },
  {
   "cell_type": "code",
   "execution_count": null,
   "id": "a39eec4f",
   "metadata": {},
   "outputs": [],
   "source": [
    "# Create a RealTimeKernel from the temporal problem and compute its transition matrix.\n",
    "from cellrank.kernels import RealTimeKernel\n",
    "tmk = RealTimeKernel.from_moscot(tp)\n",
    "tmk.compute_transition_matrix(self_transitions=\"all\", conn_weight=0.2, threshold=\"auto\")"
   ]
  },
  {
   "cell_type": "code",
   "execution_count": null,
   "id": "6c16ed3d",
   "metadata": {},
   "outputs": [],
   "source": [
    "# Plot random walks based on the RealTimeKernel.\n",
    "tmk.plot_random_walks(\n",
    "    seed=0,\n",
    "    n_sims=200,\n",
    "    start_ixs={\"timepoint\": \"hrs_00_03\"},\n",
    "    basis=\"X_umap\",\n",
    "    legend_loc=\"right\",\n",
    "    dpi=300,\n",
    "    save='CR_mature_neuronal_subset_CytoTRACEKernel_RandWalks.svg'\n",
    ")"
   ]
  },
  {
   "cell_type": "code",
   "execution_count": null,
   "id": "ca11d174",
   "metadata": {},
   "outputs": [],
   "source": [
    "# Write the RealTimeKernel to AnnData and save.\n",
    "tmk.write_to_adata()\n",
    "adata.write(\"MNsubset_RealTimeKernel.h5ad\")\n",
    "adata = sc.read(\"MNsubset_RealTimeKernel.h5ad\")\n",
    "tmk = cr.kernels.RealTimeKernel.from_adata(adata, key=\"T_fwd\")\n",
    "print(tmk)"
   ]
  },
  {
   "cell_type": "code",
   "execution_count": null,
   "id": "ea39e975",
   "metadata": {},
   "outputs": [],
   "source": [
    "# =============================================================================\n",
    "# Combine Kernels and GPCCA Analysis\n",
    "# ============================================================================="
   ]
  },
  {
   "cell_type": "code",
   "execution_count": null,
   "id": "df529596",
   "metadata": {},
   "outputs": [],
   "source": [
    "# Combine the computed kernels using weighted summation.\n",
    "# Here, weights are assigned as: VelocityKernel (0.65), CytoTRACEKernel (0.15), and ConnectivityKernel (0.2)\n",
    "adata = sc.read(\"MNsubset_ConnectvityKernel.h5ad\")\n",
    "ck = cr.kernels.ConnectivityKernel.from_adata(adata, key=\"T_fwd\")"
   ]
  },
  {
   "cell_type": "code",
   "execution_count": null,
   "id": "2f58e030",
   "metadata": {},
   "outputs": [],
   "source": [
    "adata = sc.read(\"MNsubset_VelocityKernel.h5ad\")\n",
    "vk = cr.kernels.VelocityKernel.from_adata(adata, key=\"T_fwd\")"
   ]
  },
  {
   "cell_type": "code",
   "execution_count": null,
   "id": "08169f01",
   "metadata": {},
   "outputs": [],
   "source": [
    "adata = sc.read(\"MNsubset_CytoTRACEKernel.h5ad\")\n",
    "ctk = cr.kernels.CytoTRACEKernel.from_adata(adata, key=\"T_fwd\")"
   ]
  },
  {
   "cell_type": "code",
   "execution_count": null,
   "id": "5b3a9fc9",
   "metadata": {},
   "outputs": [],
   "source": [
    "adata = sc.read_h5ad(\"1_CellRank_Starting_Data_subset.h5ad\")\n",
    "combined_kernel = 0.75 * vk + 0.15 * ctk + 0.1 * ck\n",
    "print(combined_kernel)"
   ]
  },
  {
   "cell_type": "code",
   "execution_count": null,
   "id": "209bfbd9",
   "metadata": {},
   "outputs": [],
   "source": [
    "# Create a GPCCA estimator from the combined kernel.\n",
    "g = cr.estimators.GPCCA(combined_kernel)\n",
    "print(g)"
   ]
  },
  {
   "cell_type": "code",
   "execution_count": null,
   "id": "dde47f37",
   "metadata": {},
   "outputs": [],
   "source": [
    "# Compute the Schur decomposition with 30 components and plot the spectrum.\n",
    "g.compute_schur(n_components=100)\n",
    "g.plot_spectrum(real_only=True, dpi=300, save='CR_mature_neuronal_subset_CombKer_SchurSpectrum.svg', figsize=(28,6))\n",
    "g.plot_spectrum(real_only=True, dpi=300, save='CR_mature_neuronal_subset_CombKer_SchurSpectrum.pdf', figsize=(28,6))"
   ]
  },
  {
   "cell_type": "code",
   "execution_count": null,
   "id": "23053a66",
   "metadata": {},
   "outputs": [],
   "source": [
    "print(adata.obs['neuronal_annotation_fine'])"
   ]
  },
  {
   "cell_type": "code",
   "execution_count": null,
   "id": "46ca0c03",
   "metadata": {},
   "outputs": [],
   "source": [
    "# Compute macrostates (24 states) based on the \"neuronal_annotation_fine\" grouping.\n",
    "g.compute_macrostates(n_states=30, cluster_key=\"neuronal_annotation_fine\")\n",
    "g.plot_macrostates(which=\"all\", legend_loc=\"right\", s=100, dpi=300, save='CR_mature_neuronal_subset_CombKer_Macrostates.svg')\n",
    "g.plot_macrostates(which=\"all\", legend_loc=\"right\", s=100, dpi=300, save='CR_mature_neuronal_subset_CombKer_Macrostates.pdf')"
   ]
  },
  {
   "cell_type": "code",
   "execution_count": null,
   "id": "be749b6f",
   "metadata": {},
   "outputs": [],
   "source": [
    "# Plot the composition of macrostates with respect to \"neuronal_annotation_fine\".\n",
    "g.plot_macrostate_composition(key=\"neuronal_annotation_fine\", figsize=(7, 4), dpi=300, save='CR_mature_neuronal_subset_CombKer_MacrostatesComp.svg')\n",
    "\n",
    "g.plot_macrostate_composition(key=\"neuronal_annotation_fine\", figsize=(7, 4), dpi=300, save='CR_mature_neuronal_subset_CombKer_MacrostatesComp.pdf')"
   ]
  },
  {
   "cell_type": "code",
   "execution_count": null,
   "id": "dd8cb786",
   "metadata": {},
   "outputs": [],
   "source": [
    "# Plot the coarse transition matrix of the macrostates.\n",
    "g.plot_coarse_T(annotate=False, dpi=300, save='CR_mature_neuronal_subset_CombKer_CoarseT.svg')\n",
    "g.plot_coarse_T(annotate=False, dpi=300, save='CR_mature_neuronal_subset_CombKer_CoarseT.pdf')"
   ]
  },
  {
   "cell_type": "code",
   "execution_count": null,
   "id": "fb587e09",
   "metadata": {},
   "outputs": [],
   "source": [
    "g.plot_macrostates(which=\"all\", legend_loc=\"right\", s=100, dpi=300, save='CR_mature_neuronal_subset_CombKer_Macrostates.pdf')\n",
    "g.plot_macrostates(which=\"all\", legend_loc=\"right\", s=100, dpi=300, save='CR_mature_neuronal_subset_CombKer_Macrostates.svg')"
   ]
  },
  {
   "cell_type": "code",
   "execution_count": null,
   "id": "2c474e73",
   "metadata": {},
   "outputs": [],
   "source": [
    "macrostate_labels = g.macrostates\n",
    "\n",
    "# Get unique macrostates and convert to list\n",
    "unique_macrostates = macrostate_labels.unique().tolist()\n",
    "\n",
    "# Print all macrostates\n",
    "print(\"Unique macrostates:\", unique_macrostates)\n",
    "\n",
    "# Assuming `adata` is your AnnData object\n",
    "adata = g.adata.copy()\n",
    "adata.obs[\"macrostates\"] = g.macrostates.astype(str)\n",
    "\n",
    "# Plot the first 15 macrostates\n",
    "subset = adata[adata.obs[\"macrostates\"].isin(g.macrostates.unique()[:15])]\n",
    "sc.pl.umap(subset, color=\"macrostates\",  save=\"_macrostates_part1.pdf\", show=False, size=100)\n",
    "\n",
    "# Plot the remaining 15 macrostates\n",
    "subset = adata[adata.obs[\"macrostates\"].isin(g.macrostates.unique()[15:])]\n",
    "sc.pl.umap(subset, color=\"macrostates\", save=\"_macrostates_part2.pdf\", show=False, size=100)\n"
   ]
  },
  {
   "cell_type": "code",
   "execution_count": null,
   "id": "f1a607a9",
   "metadata": {},
   "outputs": [],
   "source": [
    "# =============================================================================\n",
    "# Set Initial and Terminal States and Visualize Macrostates\n",
    "# ============================================================================="
   ]
  },
  {
   "cell_type": "code",
   "execution_count": null,
   "id": "44c26a6e",
   "metadata": {},
   "outputs": [],
   "source": []
  },
  {
   "cell_type": "code",
   "execution_count": null,
   "id": "7db97a4a",
   "metadata": {},
   "outputs": [],
   "source": [
    "# Predict initial states and then manually set the desired initial states.\n",
    "g.predict_initial_states()\n",
    "g.set_initial_states(states=['Neuroblasts/GMCs_1',  'Neuroblasts/GMCs_2', 'Neuroblasts/GMCs_3', 'Neuroblasts/GMCs_4', 'Neuroblasts/GMCs_5', 'Neuroblasts/GMCs_6'])\n",
    "\n",
    "g.plot_macrostates(which=\"initial\", legend_loc=\"right\", s=100, dpi=300, save='CR_mature_neuronal_subset_CombKer_Initialstates.pdf')\n",
    "g.plot_macrostates(which=\"initial\", legend_loc=\"right\", s=100, dpi=300, save='CR_mature_neuronal_subset_CombKer_Initialstates.svg')\n"
   ]
  },
  {
   "cell_type": "code",
   "execution_count": null,
   "id": "784d2a9e",
   "metadata": {},
   "outputs": [],
   "source": []
  },
  {
   "cell_type": "code",
   "execution_count": null,
   "id": "c1e2e028",
   "metadata": {},
   "outputs": [],
   "source": [
    "# Predict terminal states and set the desired terminal states.\n",
    "g.set_terminal_states(states=['Glutamate', 'Acetylcholine', 'Monoamine', 'GABA_1', 'GABA_2'], allow_overlap=True)\n",
    "g.plot_macrostates(which=\"terminal\", legend_loc=\"right\", s=100, dpi=300, save='CR_mature_neuronal_subset_CombKer_Terminalstates.pdf')\n",
    "g.plot_macrostates(which=\"terminal\", legend_loc=\"right\", s=100, dpi=300, save='CR_mature_neuronal_subset_CombKer_Terminalstates.svg')"
   ]
  },
  {
   "cell_type": "code",
   "execution_count": null,
   "id": "58dbe317",
   "metadata": {},
   "outputs": [],
   "source": [
    "# =============================================================================\n",
    "# Save the GPCCA (\"g\") Object\n",
    "# ============================================================================="
   ]
  },
  {
   "cell_type": "code",
   "execution_count": null,
   "id": "0bd7183e",
   "metadata": {},
   "outputs": [],
   "source": [
    "# Save the estimator object to disk using pickle.\n",
    "with open(\"CR_mature_neuronal_subset_CombKer_GPCCA.pkl\", \"wb\") as f:\n",
    "    pickle.dump(g, f)\n",
    "\n",
    "print(\"GPCCA estimator object saved successfully.\")"
   ]
  },
  {
   "cell_type": "code",
   "execution_count": null,
   "id": "8c3d5538",
   "metadata": {},
   "outputs": [],
   "source": [
    "with open(\"CR_mature_neuronal_subset_CombKer_GPCCA.pkl\", \"rb\") as f:\n",
    "     g = pickle.load(f)"
   ]
  },
  {
   "cell_type": "code",
   "execution_count": null,
   "id": "67dd5f45",
   "metadata": {},
   "outputs": [],
   "source": [
    "# Compute fate probabilities and plot the results.\n",
    "g.compute_fate_probabilities(n_jobs=1, show_progress_bar=True)"
   ]
  },
  {
   "cell_type": "code",
   "execution_count": null,
   "id": "b16b00b2",
   "metadata": {},
   "outputs": [],
   "source": [
    "g.plot_fate_probabilities(same_plot=False, dpi=300, save='CR_mature_neuronal_subseture_neuronal_subset_CombKer_FateProbabilites.pdf')\n",
    "\n",
    "g.plot_fate_probabilities(same_plot=False, dpi=300, save='CR_mature_neuronal_subset_CombKer_FateProbabilites.svg')"
   ]
  },
  {
   "cell_type": "code",
   "execution_count": null,
   "id": "6d7303bf",
   "metadata": {},
   "outputs": [],
   "source": [
    "# =============================================================================\n",
    "# Circular Projection of Macrostates\n",
    "# ============================================================================="
   ]
  },
  {
   "cell_type": "code",
   "execution_count": null,
   "id": "ea4b8ac8",
   "metadata": {},
   "outputs": [],
   "source": [
    "# Create a new AnnData object from the GPCCA estimator.\n",
    "adata = g.to_adata(keep='all', copy=True)"
   ]
  },
  {
   "cell_type": "code",
   "execution_count": null,
   "id": "318dbec1",
   "metadata": {},
   "outputs": [],
   "source": [
    "# Now generate the circular projection using the updated adata.\n",
    "cr.pl.circular_projection(\n",
    "    adata, \n",
    "    keys=[\"neuronal_annotation_fine\"], \n",
    "    legend_loc=\"right\", \n",
    "    dpi=300, \n",
    "    save='CR_mature_neuronal_subset_CombKer_CircularProjection.pdf'\n",
    ")"
   ]
  },
  {
   "cell_type": "code",
   "execution_count": null,
   "id": "1e374f04",
   "metadata": {},
   "outputs": [],
   "source": [
    "# Now generate the circular projection using the updated adata.\n",
    "cr.pl.circular_projection(\n",
    "    adata, \n",
    "    keys=[\"neuronal_annotation_fine\"], \n",
    "    legend_loc=\"right\", \n",
    "    dpi=300, \n",
    "    save='CR_mature_neuronal_subset_CombKer_CircularProjection.svg'\n",
    ")"
   ]
  },
  {
   "cell_type": "code",
   "execution_count": null,
   "id": "10fe88e1",
   "metadata": {},
   "outputs": [],
   "source": [
    "sc.pl.violin(adata, keys=[\"velocity_pseudotime\"], groupby=\"neuronal_annotation_fine\", rotation=90, save='mature_neuronal_subset_VlnPlt_velocityseudotime.pdf')\n",
    "\n",
    "sc.pl.violin(adata, keys=[\"velocity_pseudotime\"], groupby=\"neuronal_annotation_fine\", rotation=90, save='mature_neuronal_subset_VlnPlt_velocityseudotime.svg')"
   ]
  },
  {
   "cell_type": "code",
   "execution_count": null,
   "id": "e3ed5f5d",
   "metadata": {},
   "outputs": [],
   "source": [
    "# =============================================================================\n",
    "# Trajectories\n",
    "# ============================================================================="
   ]
  },
  {
   "cell_type": "code",
   "execution_count": null,
   "id": "849930c0",
   "metadata": {},
   "outputs": [],
   "source": [
    "# Parameters\n",
    "top_n = 10\n",
    "\n",
    "lineages = ['Glutamate', 'Acetylcholine', 'Monoamine', 'GABA_1', 'GABA_2']\n",
    "cluster_key = \"neuronal_annotation_fine\"\n",
    "early_states = ['Neuroblasts/GMCs']"
   ]
  },
  {
   "cell_type": "code",
   "execution_count": null,
   "id": "a12680e0",
   "metadata": {},
   "outputs": [],
   "source": [
    "# Ensure mean expression exists for coloring\n",
    "adata.var[\"mean expression\"] = adata.X.A.mean(axis=0)"
   ]
  },
  {
   "cell_type": "code",
   "execution_count": null,
   "id": "01324f44",
   "metadata": {},
   "outputs": [],
   "source": [
    "# Plot early states on UMAP\n",
    "sc.pl.embedding(\n",
    "    adata, basis=\"umap\", color=cluster_key, groups=early_states,\n",
    "    legend_loc=\"right\", save='CR_mature_neuronal_subset_CombKer_EarlyStates.pdf'\n",
    ")\n",
    "sc.pl.embedding(\n",
    "    adata, basis=\"umap\", color=cluster_key, groups=early_states,\n",
    "    legend_loc=\"right\", save='CR_mature_neuronal_subset_CombKer_EarlyStates.svg'\n",
    ")"
   ]
  },
  {
   "cell_type": "code",
   "execution_count": null,
   "id": "3fc237ff",
   "metadata": {},
   "outputs": [],
   "source": [
    "# Initialize containers\n",
    "top_genes_dict = {}\n",
    "combined_df = []"
   ]
  },
  {
   "cell_type": "code",
   "execution_count": null,
   "id": "77f715f2",
   "metadata": {},
   "outputs": [],
   "source": [
    "# =============================\n",
    "# Compute & process drivers per lineage\n",
    "# ============================="
   ]
  },
  {
   "cell_type": "code",
   "execution_count": null,
   "id": "ead71006",
   "metadata": {},
   "outputs": [],
   "source": [
    "for lineage in lineages:\n",
    "    print(f\"\\nProcessing lineage: {lineage}\")\n",
    "    cluster_lineage = lineage.split('_')[0]  # Remove _1/_2 suffix\n",
    "    clusters = early_states + [cluster_lineage]\n",
    "    print(f\"  Using clusters: {clusters}\")\n",
    "    # Compute drivers for this lineage\n",
    "    df_lineage = g.compute_lineage_drivers(\n",
    "        lineages=[lineage],\n",
    "        cluster_key=cluster_key,\n",
    "        clusters=clusters\n",
    "    )\n",
    "    # Add lineage column if needed\n",
    "    df_lineage[\"lineage\"] = lineage\n",
    "    # Save full table\n",
    "    safe_lineage = lineage.replace(\"/\", \"_\")  # Replace slashes with underscores\n",
    "    df_lineage.to_csv(f\"{safe_lineage}_drivers.csv\", index=True)\n",
    "    combined_df.append(df_lineage)\n",
    "    # Extract top genes by qval\n",
    "    qval_col = f\"{lineage}_qval\"\n",
    "    df_lineage = df_lineage.dropna(subset=[qval_col])\n",
    "    top_genes = (\n",
    "        df_lineage.sort_values(qval_col, ascending=True)\n",
    "        .head(top_n)\n",
    "        .index.tolist()  # gene names are in index\n",
    "    )\n",
    "    top_genes_dict[lineage] = top_genes\n",
    "    # Add fate probs to .obs\n",
    "    fate_key = f\"fate_probabilities_{lineage.lower()}\"\n",
    "    adata.obs[fate_key] = g.fate_probabilities[lineage].X.flatten()\n",
    "    # UMAP plot: fate prob + top genes\n",
    "    safe_lineage = lineage.replace(\"/\", \"_\")  # Replace slashes with underscores\n",
    "    sc.pl.embedding(\n",
    "        adata, basis=\"X_umap\", color=[fate_key] + top_genes,\n",
    "        color_map=\"viridis\", s=50, ncols=3, vmax=\"p96\",\n",
    "        save=f\"FateProbs_{safe_lineage}.pdf\"\n",
    "    )\n",
    "    sc.pl.embedding(\n",
    "        adata, basis=\"X_umap\", color=[fate_key] + top_genes,\n",
    "        color_map=\"viridis\", s=50, ncols=3, vmax=\"p96\",\n",
    "        save=f\"FateProbs_{safe_lineage}.png\"\n",
    "    )\n",
    "\n",
    "    # Violin plots\n",
    "    #cr.pl.aggregate_fate_probabilities(\n",
    "    #    adata, mode=\"violin\", lineages=[lineage],\n",
    "    #    cluster_key=cluster_key,\n",
    "    #    save=f\"AggregateFateProb_{lineage}.pdf\"\n",
    "    #)\n",
    "    #cr.pl.aggregate_fate_probabilities(\n",
    "    #    adata, mode=\"violin\", lineages=[lineage],\n",
    "    #    cluster_key=cluster_key,\n",
    "    #    save=f\"AggregateFateProb_{lineage}.svg\"\n",
    "    #)\n"
   ]
  },
  {
   "cell_type": "code",
   "execution_count": null,
   "id": "65c9ca0c",
   "metadata": {},
   "outputs": [],
   "source": [
    "# =============================\n",
    "# Save combined driver table\n",
    "# ============================="
   ]
  },
  {
   "cell_type": "code",
   "execution_count": null,
   "id": "056c8bd0",
   "metadata": {},
   "outputs": [],
   "source": [
    "combined_df = pd.concat(combined_df, axis=0)\n",
    "combined_df.to_csv(\"combined_lineage_drivers.csv\")\n",
    "\n",
    "print(\"All lineage driver analyses completed and saved.\")"
   ]
  },
  {
   "cell_type": "code",
   "execution_count": null,
   "id": "13f4745c",
   "metadata": {},
   "outputs": [],
   "source": [
    "# =============================\n",
    "# Ensure mean expression exists for coloring\n",
    "# ============================="
   ]
  },
  {
   "cell_type": "code",
   "execution_count": null,
   "id": "89316f7b",
   "metadata": {},
   "outputs": [],
   "source": [
    "if hasattr(adata.X, \"toarray\"):  # sparse matrix\n",
    "    adata.var[\"mean expression\"] = np.array(adata.X.mean(axis=0)).flatten()\n",
    "else:  # dense matrix\n",
    "    adata.var[\"mean expression\"] = adata.X.mean(axis=0)"
   ]
  },
  {
   "cell_type": "code",
   "execution_count": null,
   "id": "f60e7699",
   "metadata": {},
   "outputs": [],
   "source": [
    "# =============================\n",
    "# Compute all drivers at once\n",
    "# ============================="
   ]
  },
  {
   "cell_type": "code",
   "execution_count": null,
   "id": "293bfab4",
   "metadata": {},
   "outputs": [],
   "source": [
    "driver_df = g.compute_lineage_drivers(lineages=lineages)\n",
    "adata = g.to_adata(keep='all', copy=True)\n",
    "\n",
    "print(\"varm:\", adata.varm.keys())\n",
    "# Manually need to add this adata.varm (unsure why it doesn't do it automatically)\n",
    "adata.varm[\"terminal_lineage_drivers\"] = driver_df.to_records(index=True)\n",
    "print(\"varm:\", adata.varm.keys())"
   ]
  },
  {
   "cell_type": "code",
   "execution_count": null,
   "id": "214977a7",
   "metadata": {},
   "outputs": [],
   "source": [
    "# =============================\n",
    "# Extract top N genes per lineage based on qval\n",
    "# ============================="
   ]
  },
  {
   "cell_type": "code",
   "execution_count": null,
   "id": "4499c557",
   "metadata": {},
   "outputs": [],
   "source": [
    "top_genes_dict = {}"
   ]
  },
  {
   "cell_type": "code",
   "execution_count": null,
   "id": "736a3742",
   "metadata": {},
   "outputs": [],
   "source": [
    "for lineage in lineages:\n",
    "    qval_col = f\"{lineage}_qval\"\n",
    "    # Drop NaNs in q-value column\n",
    "    filtered_df = driver_df.dropna(subset=[qval_col])\n",
    "    # Sort by ascending q-value and select top genes\n",
    "    top_genes = (\n",
    "        filtered_df.sort_values(qval_col, ascending=True)\n",
    "        .head(top_n)\n",
    "        .index.tolist()\n",
    "    )\n",
    "    top_genes_dict[lineage] = top_genes"
   ]
  },
  {
   "cell_type": "code",
   "execution_count": null,
   "id": "a58da2dc",
   "metadata": {},
   "outputs": [],
   "source": [
    "# =============================\n",
    "# Plot driver correlation between all lineage pairs\n",
    "# ============================="
   ]
  },
  {
   "cell_type": "code",
   "execution_count": null,
   "id": "8e827993",
   "metadata": {},
   "outputs": [],
   "source": [
    "for i in range(len(lineages)):\n",
    "    for j in range(i + 1, len(lineages)):\n",
    "        lin_x = lineages[i]\n",
    "        lin_y = lineages[j]\n",
    "        print(f\"Plotting correlation between {lin_x} and {lin_y}...\")\n",
    "        g.plot_lineage_drivers_correlation(\n",
    "            lineage_x=lin_x,\n",
    "            lineage_y=lin_y,\n",
    "            adjust_text=True,\n",
    "            gene_sets={\n",
    "                lin_x: top_genes_dict[lin_x],\n",
    "                lin_y: top_genes_dict[lin_y],\n",
    "            },\n",
    "            color=\"mean expression\",  # Now guaranteed to exist in adata.var\n",
    "            legend_loc=\"none\",\n",
    "            figsize=(6, 6),\n",
    "            dpi=300,\n",
    "            fontsize=9,\n",
    "            size=50,\n",
    "            save=f\"DriverCorr_{lin_x}_vs_{lin_y}.png\"\n",
    "        )\n"
   ]
  },
  {
   "cell_type": "code",
   "execution_count": null,
   "id": "c345adad",
   "metadata": {},
   "outputs": [],
   "source": [
    "# =============================\n",
    "# Latent time violin plot\n",
    "# ============================="
   ]
  },
  {
   "cell_type": "code",
   "execution_count": null,
   "id": "8255fd40",
   "metadata": {},
   "outputs": [],
   "source": [
    "lt_order = (\n",
    "    adata.obs.groupby(cluster_key)[\"latent_time\"]\n",
    "    .mean().sort_values().index.tolist()\n",
    ")\n",
    "adata.obs[cluster_key] = pd.Categorical(adata.obs[cluster_key], categories=lt_order, ordered=True)\n",
    "\n",
    "sc.pl.violin(\n",
    "    adata, keys=[\"latent_time\"], groupby=cluster_key,\n",
    "    rotation=90, save='LatentTimeVln.pdf'\n",
    ")\n",
    "sc.pl.violin(\n",
    "    adata, keys=[\"latent_time\"], groupby=cluster_key,\n",
    "    rotation=90, save='LatentTimeVln.svg'\n",
    ")"
   ]
  },
  {
   "cell_type": "code",
   "execution_count": null,
   "id": "bbfd85ea",
   "metadata": {},
   "outputs": [],
   "source": [
    "# =============================\n",
    "# Fit GAMR model for trends\n",
    "# ============================="
   ]
  },
  {
   "cell_type": "code",
   "execution_count": null,
   "id": "441ce630",
   "metadata": {},
   "outputs": [],
   "source": [
    "# Save the estimator object to disk using pickle.\n",
    "with open(\"CR_mature_neuronal_subset_CombKer_GPCCA_2.pkl\", \"wb\") as f:\n",
    "    pickle.dump(g, f)\n",
    "\n",
    "print(\"GPCCA estimator object saved successfully.\")"
   ]
  },
  {
   "cell_type": "code",
   "execution_count": null,
   "id": "f6b30c18",
   "metadata": {},
   "outputs": [],
   "source": [
    "with open(\"CR_mature_neuronal_subset_CombKer_GPCCA_2.pkl\", \"rb\") as f:\n",
    "     g = pickle.load(f)"
   ]
  },
  {
   "cell_type": "code",
   "execution_count": null,
   "id": "17947ee7",
   "metadata": {},
   "outputs": [],
   "source": [
    "adata = g.to_adata(keep='all', copy=True)\n",
    "model = cr.models.GAMR(adata, n_knots=6)\n"
   ]
  },
  {
   "cell_type": "code",
   "execution_count": null,
   "id": "b3c894ee",
   "metadata": {},
   "outputs": [],
   "source": [
    "# =============================\n",
    "# Plot gene trends and heatmaps for each lineage\n",
    "# ============================="
   ]
  },
  {
   "cell_type": "code",
   "execution_count": null,
   "id": "6c3268d1",
   "metadata": {},
   "outputs": [],
   "source": [
    "# assume `lineages` is the list of lineage keys you want to plot\n",
    "n_lin = len(lineages)\n",
    "print(lineages)\n",
    "color_list = [\n",
    "    \"#B71C1C\", \n",
    "    \"#FB8C00\",\n",
    "    \"#B71C1F\",\n",
    "    \"#FFD700\", \n",
    "    \"#D84315\",\n",
    "    \"#F06292\",\n",
    "    \"#43A047\"\n",
    "]\n",
    "# assign your list of hex‐colors into uns\n",
    "adata.uns[\"term_states_fwd_colors\"] = color_list"
   ]
  },
  {
   "cell_type": "code",
   "execution_count": null,
   "id": "0055c042",
   "metadata": {},
   "outputs": [],
   "source": [
    "for lineage in lineages:\n",
    "    print(f\"\\nPlotting gene trends for: {lineage}\")\n",
    "    cluster_lineage = lineage.split('_')[0]  # Remove _1/_2 suffix\n",
    "    # Use qval column instead of 'lineage' column\n",
    "    qval_col = f\"{lineage}_qval\"\n",
    "    if qval_col not in driver_df.columns:\n",
    "        print(f\"  Skipping {lineage} — no qval column found.\")\n",
    "        continue\n",
    "    # Filter and sort top 40 drivers\n",
    "    df_lineage = driver_df.dropna(subset=[qval_col])\n",
    "    genes = df_lineage.sort_values(qval_col).head(40).index.tolist()\n",
    "    # Gene trend plot\n",
    "    cr.pl.gene_trends(\n",
    "        adata,\n",
    "        model=model,\n",
    "        genes=genes[:8],\n",
    "        same_plot=True,\n",
    "        ncols=2,\n",
    "        time_key=\"latent_time\",\n",
    "        hide_cells=True,\n",
    "        weight_threshold=(1e-3, 1e-3),\n",
    "        save=f\"GeneTrends_TopDrivers_{lineage}.png\"\n",
    "    )\n",
    "    # Heatmap\n",
    "    cr.pl.heatmap(\n",
    "        adata,\n",
    "        model=model,\n",
    "        lineages=lineage,\n",
    "        cluster_key=cluster_key,\n",
    "        show_fate_probabilities=True,\n",
    "        genes=genes,\n",
    "        time_key=\"latent_time\",\n",
    "        figsize=(12, 10),\n",
    "        show_all_genes=True,\n",
    "        weight_threshold=(1e-3, 1e-3),\n",
    "        save=f\"HeatmapModelGeneTrends_{lineage}.png\"\n",
    "    )\n",
    "    \n",
    "# (Optional) You can inspect if the key exists now:\n",
    "print(\"Keys in adata.varm:\", adata.varm.keys())\n",
    "print(\"Keys in adata.var:\", adata.var.keys())\n"
   ]
  },
  {
   "cell_type": "code",
   "execution_count": null,
   "id": "6df61a92",
   "metadata": {},
   "outputs": [],
   "source": [
    "terminal_state_names = g.terminal_states.unique().tolist()\n",
    "print(terminal_state_names)\n"
   ]
  },
  {
   "cell_type": "code",
   "execution_count": null,
   "id": "d8b695d0",
   "metadata": {},
   "outputs": [],
   "source": [
    "\n",
    "# List of genes\n",
    "genes = [\"fd59A\", \"dmrt99B\", \"CG4328\", \"Vsx1\", \"Vsx2\", \"Lmx1a\", \"Atf3\", \"CG3104\"]\n",
    "\n",
    "# Create output folder for individual gene plots\n",
    "output_folder = \"GeneTrends_TFs\"\n",
    "os.makedirs(output_folder, exist_ok=True)\n",
    "\n",
    "# Plot each gene individually\n",
    "for gene in genes:\n",
    "    cr.pl.gene_trends(\n",
    "        adata,\n",
    "        model=model,\n",
    "        genes=[gene],\n",
    "        same_plot=True,\n",
    "        ncols=1,\n",
    "        time_key=\"latent_time\",\n",
    "        hide_cells=True,\n",
    "        weight_threshold=(1e-3, 1e-3),\n",
    "        n_jobs=1,\n",
    "        save=f\"{output_folder}/GeneTrend_{gene}.pdf\"\n",
    "    )\n",
    "\n",
    "# Combined plot (all genes together)\n",
    "cr.pl.gene_trends(\n",
    "    adata,\n",
    "    model=model,\n",
    "    genes=genes,\n",
    "    same_plot=True,\n",
    "    ncols=2,\n",
    "    time_key=\"latent_time\",\n",
    "    hide_cells=True,\n",
    "    weight_threshold=(1e-3, 1e-3),\n",
    "    n_jobs=1,\n",
    "    save=\"CR_mature_neuronal_subset_CombKer_ModelGeneTrendsTFs_Monoamine.pdf\"\n",
    ")"
   ]
  },
  {
   "cell_type": "code",
   "execution_count": null,
   "id": "59c4f8fe",
   "metadata": {},
   "outputs": [],
   "source": [
    "\n",
    "# List of genes\n",
    "genes = [\"cic\", \"NfI\", \"cbt\", \"CG4328\", \"Lmx1a\", \"FoxP\", \"trh\", \"Eip78C\", \"net\", \"Pdp1\", \"luna\"]\n",
    "\n",
    "# Create output folder for individual gene plots\n",
    "output_folder = \"GeneTrends_TFs2\"\n",
    "os.makedirs(output_folder, exist_ok=True)\n",
    "\n",
    "# Plot each gene individually\n",
    "for gene in genes:\n",
    "    cr.pl.gene_trends(\n",
    "        adata,\n",
    "        model=model,\n",
    "        genes=[gene],\n",
    "        same_plot=True,\n",
    "        ncols=1,\n",
    "        time_key=\"latent_time\",\n",
    "        hide_cells=True,\n",
    "        weight_threshold=(1e-3, 1e-3),\n",
    "        n_jobs=1,\n",
    "        save=f\"{output_folder}/GeneTrend_{gene}.pdf\"\n",
    "    )\n",
    "\n",
    "# Combined plot (all genes together)\n",
    "cr.pl.gene_trends(\n",
    "    adata,\n",
    "    model=model,\n",
    "    genes=genes,\n",
    "    same_plot=True,\n",
    "    ncols=2,\n",
    "    time_key=\"latent_time\",\n",
    "    hide_cells=True,\n",
    "    weight_threshold=(1e-3, 1e-3),\n",
    "    n_jobs=1,\n",
    "    save=\"CR_mature_neuronal_subset_CombKer_ModelGeneTrendsTFs2_Monoamine.pdf\"\n",
    ")"
   ]
  },
  {
   "cell_type": "code",
   "execution_count": null,
   "id": "d9c87aa8",
   "metadata": {},
   "outputs": [],
   "source": [
    "# List of enzyme genes\n",
    "enzyme_genes = [\"Trh\", \"Ddc\", \"ple\", \"Vmat\", \"Tbh\", \"Tdc2\", \"SerT\", \"DAT\"]\n",
    "\n",
    "# Create output folder for individual enzyme gene plots\n",
    "enzyme_output_folder = \"GeneTrends_Enzymes\"\n",
    "os.makedirs(enzyme_output_folder, exist_ok=True)\n",
    "\n",
    "# Plot each enzyme gene individually\n",
    "for gene in enzyme_genes:\n",
    "    cr.pl.gene_trends(\n",
    "        adata,\n",
    "        model=model,\n",
    "        genes=[gene],\n",
    "        same_plot=True,\n",
    "        ncols=1,\n",
    "        time_key=\"latent_time\",\n",
    "        hide_cells=True,\n",
    "        legend_loc=None,\n",
    "        weight_threshold=(1e-3, 1e-3),\n",
    "        n_jobs=1,\n",
    "        save=f\"{enzyme_output_folder}/GeneTrend_{gene}.pdf\"\n",
    "    )\n",
    "\n",
    "# Combined plot (all enzyme genes together)\n",
    "cr.pl.gene_trends(\n",
    "    adata,\n",
    "    model=model,\n",
    "    genes=enzyme_genes,\n",
    "    same_plot=True,\n",
    "    ncols=2,\n",
    "    time_key=\"latent_time\",\n",
    "    hide_cells=True,\n",
    "    legend_loc=None,\n",
    "    weight_threshold=(1e-3, 1e-3),\n",
    "    n_jobs=1,\n",
    "    save=\"CR_mature_neuronal_subset_CombKer_ModelGeneTrendsEnzymes_Monoamine.pdf\"\n",
    ")"
   ]
  },
  {
   "cell_type": "code",
   "execution_count": null,
   "id": "d23d8c65",
   "metadata": {},
   "outputs": [],
   "source": [
    "# Table of cell counts per neuronal_annotation_fine\n",
    "cell_counts = adata.obs[\"neuronal_annotation_fine\"].value_counts().sort_index()\n",
    "print(cell_counts)\n",
    "cell_counts.to_csv(\"neuronal_annotation_fine_cell_counts.csv\")"
   ]
  },
  {
   "cell_type": "code",
   "execution_count": null,
   "id": "39fe2497",
   "metadata": {},
   "outputs": [],
   "source": [
    "# compute putative drivers for the Beta trajectory\n",
    "monoamine_drivers = g.compute_lineage_drivers(\n",
    "    lineages=[\"Monoamine\"],\n",
    "    cluster_key=\"neuronal_annotation_fine\")\n",
    "\n",
    "# plot heatmap\n",
    "cr.pl.heatmap(\n",
    "    adata,\n",
    "    model=model,  # use the model from before\n",
    "    lineages=\"Monoamine\",\n",
    "    cluster_key=\"neuronal_annotation_fine\",\n",
    "    show_fate_probabilities=True,\n",
    "    genes=monoamine_drivers.head(75).index,\n",
    "    time_key=\"latent_time\",\n",
    "    figsize=(12, 16),\n",
    "    show_all_genes=True,\n",
    "    weight_threshold=(1e-3, 1e-3),\n",
    "save='CR_mature_neuronal_subset_CombKer_HeatmapModelGeneTrends_Monoamine.pdf')"
   ]
  },
  {
   "cell_type": "code",
   "execution_count": null,
   "id": "917074c9",
   "metadata": {},
   "outputs": [],
   "source": [
    "# Compute putative drivers for all terminal lineages\n",
    "all_lineage_drivers = g.compute_lineage_drivers(lineages=lineages, cluster_key=\"neuronal_annotation_fine\")\n",
    "\n",
    "# Plot heatmap for all lineages (top 75 genes by min q-value across all lineages)\n",
    "# Get top 75 genes with lowest min q-value across all lineages\n",
    "min_qval = all_lineage_drivers[[f\"{l}_qval\" for l in lineages]].min(axis=1)\n",
    "top_genes = min_qval.nsmallest(75).index\n",
    "\n",
    "cr.pl.heatmap(\n",
    "    adata,\n",
    "    model=model,\n",
    "    lineages=lineages,\n",
    "    cluster_key=\"neuronal_annotation_fine\",\n",
    "    show_fate_probabilities=True,\n",
    "    genes=top_genes,\n",
    "    time_key=\"latent_time\",\n",
    "    figsize=(14, 18),\n",
    "    show_all_genes=True,\n",
    "    weight_threshold=(1e-3, 1e-3),\n",
    "    save=\"CR_mature_neuronal_subset_CombKer_HeatmapModelGeneTrends_AllLineages.pdf\"\n",
    ")"
   ]
  },
  {
   "cell_type": "code",
   "execution_count": null,
   "id": "b299e6d7",
   "metadata": {},
   "outputs": [],
   "source": [
    "# Compute putative drivers for the full neurogenic lineage (all relevant clusters)\n",
    "# Here, we use all clusters in the neurogenic trajectory, e.g. all in 'neuronal_annotation_fine'\n",
    "all_neurogenic_drivers = g.compute_lineage_drivers(\n",
    "    lineages=None,  # None or all clusters, depending on CellRank version\n",
    "    cluster_key=\"neuronal_annotation_fine\"\n",
    ")\n",
    "\n",
    "# Select top 75 genes by lowest q-value across all clusters\n",
    "qval_cols = [col for col in all_neurogenic_drivers.columns if col.endswith(\"_qval\")]\n",
    "min_qval = all_neurogenic_drivers[qval_cols].min(axis=1)\n",
    "top_genes = min_qval.nsmallest(75).index\n",
    "\n",
    "# Plot heatmap for the full neurogenic lineage\n",
    "cr.pl.heatmap(\n",
    "    adata,\n",
    "    model=model,\n",
    "    lineages=None,  # or all clusters, if required\n",
    "    cluster_key=\"neuronal_annotation_fine\",\n",
    "    show_fate_probabilities=True,\n",
    "    genes=top_genes,\n",
    "    time_key=\"latent_time\",\n",
    "    figsize=(16, 20),\n",
    "    show_all_genes=True,\n",
    "    weight_threshold=(1e-3, 1e-3),\n",
    "    save=\"CR_mature_neuronal_subset_CombKer_HeatmapModelGeneTrends_NeurogenicLineage.pdf\"\n",
    ")"
   ]
  },
  {
   "cell_type": "code",
   "execution_count": null,
   "id": "f31bced2",
   "metadata": {},
   "outputs": [],
   "source": [
    "# Define gene groups and output folders\n",
    "gene_groups = {\n",
    "    \"Enzymes\": [\"Trh\", \"Ddc\", \"ple\", \"Vmat\", \"Tbh\", \"Tdc2\", \"SerT\", \"DAT\", \"Hdc\"],\n",
    "    \"SerReceptors\": [\"5-HT1A\", \"5-HT1B\", \"5-HT2A\", \"5-HT2B\", \"5-HT7\"],\n",
    "    \"DopReceptors\": [\"Dop1R1\", \"Dop1R2\", \"Dop2R\", \"DopEcR\"],\n",
    "    \"OctReceptors\": [\"Oct-TyrR\", \"Octbeta1R\", \"Octbeta3R\", \"Oamb\", \"Octbeta2R\", \"Octalpha2R\"],\n",
    "    \"HisReceptors\": [\"HisCl1\"],\n",
    "    \"TyrReceptors\": [\"Oct-TyrR\", \"TyrR\", \"TyrRII\"],\n",
    "    \"TF3\": [\"vvl\", \"CG32532\", \"Lmx1a\", \"Ets65A\"]\n",
    "\n",
    "}\n",
    "\n",
    "for group, genes in gene_groups.items():\n",
    "    \n",
    "    os.makedirs(folder, exist_ok=True)\n",
    "    # Plot each gene individually\n",
    "    for gene in genes:\n",
    "        cr.pl.gene_trends(\n",
    "            adata,\n",
    "            model=model,\n",
    "            genes=[gene],\n",
    "            same_plot=True,\n",
    "            ncols=1,\n",
    "            time_key=\"latent_time\",\n",
    "            hide_cells=True,\n",
    "            legend_loc=None,\n",
    "            weight_threshold=(1e-3, 1e-3),\n",
    "            n_jobs=1,\n",
    "            save=f\"GeneTrend_{gene}.pdf\"\n",
    "        )\n",
    "    # Combined plot for the group\n",
    "    cr.pl.gene_trends(\n",
    "        adata,\n",
    "        model=model,\n",
    "        genes=genes,\n",
    "        same_plot=True,\n",
    "        ncols=2,\n",
    "        time_key=\"latent_time\",\n",
    "        hide_cells=True,\n",
    "        legend_loc=None,\n",
    "        weight_threshold=(1e-3, 1e-3),\n",
    "        n_jobs=1,\n",
    "        save=f\"CR_mature_neuronal_subset_CombKer_ModelGeneTrends{group}_Monoamine.pdf\"\n",
    "    )"
   ]
  }
 ],
 "metadata": {
  "kernelspec": {
   "display_name": "cellrank",
   "language": "python",
   "name": "python3"
  },
  "language_info": {
   "codemirror_mode": {
    "name": "ipython",
    "version": 3
   },
   "file_extension": ".py",
   "mimetype": "text/x-python",
   "name": "python",
   "nbconvert_exporter": "python",
   "pygments_lexer": "ipython3",
   "version": "3.13.3"
  }
 },
 "nbformat": 4,
 "nbformat_minor": 5
}
