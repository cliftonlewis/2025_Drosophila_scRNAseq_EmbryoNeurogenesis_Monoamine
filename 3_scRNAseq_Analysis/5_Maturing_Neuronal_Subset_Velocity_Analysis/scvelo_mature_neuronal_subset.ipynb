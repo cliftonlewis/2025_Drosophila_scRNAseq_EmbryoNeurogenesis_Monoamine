{
 "cells": [
  {
   "cell_type": "markdown",
   "id": "f7be65dc",
   "metadata": {},
   "source": [
    "# Drosophila Mature Neuronal Subset scVelo Analysis"
   ]
  },
  {
   "cell_type": "markdown",
   "id": "01c5319a",
   "metadata": {},
   "source": [
    "### **Date:** 01 Aug 2025"
   ]
  },
  {
   "cell_type": "code",
   "execution_count": null,
   "id": "b90bcc04",
   "metadata": {},
   "outputs": [],
   "source": [
    "# =============================================================================\n",
    "# Import Necessary Packages\n",
    "# =============================================================================\n",
    "import numpy as np\n",
    "import os\n",
    "import scanpy as sc\n",
    "import anndata as ad\n",
    "import scvelo as scv\n",
    "\n",
    "# Additional packages for plotting, logging, etc.\n",
    "import pandas as pd\n",
    "import matplotlib.pyplot as plt\n",
    "import re\n",
    "import logging\n",
    "from scipy.stats import median_abs_deviation"
   ]
  },
  {
   "cell_type": "code",
   "execution_count": null,
   "metadata": {},
   "outputs": [],
   "source": [
    "# =============================================================================\n",
    "# Initialise Environment Settings\n",
    "# =============================================================================\n",
    "np.random.seed(12345)  # Set random seed for reproducibility\n",
    "\n",
    "# Set working directory\n",
    "working_directory = \"/DataDrives/Drive2/Clifton/R_Projects/2025_Drosophila_scRNAseq_MonoamineSpecification/ANALYSIS/Step_3_scVelo/Step_3.2_Mature_neuronal_subset_analysis\"\n",
    "os.chdir(working_directory)\n",
    "print(f\"Current working directory: {os.getcwd()}\")\n"
   ]
  },
  {
   "cell_type": "code",
   "execution_count": null,
   "id": "9049f1cc",
   "metadata": {},
   "outputs": [],
   "source": [
    "# Configure Scanpy settings\n",
    "sc.settings.verbosity = 3\n",
    "sc.logging.print_header()"
   ]
  },
  {
   "cell_type": "code",
   "execution_count": null,
   "id": "519b2e6b",
   "metadata": {},
   "outputs": [],
   "source": [
    "# Configure scVelo settings\n",
    "scv.settings.verbosity = 3\n",
    "scv.settings.presenter_view = True\n",
    "scv.set_figure_params('scvelo')"
   ]
  },
  {
   "cell_type": "code",
   "execution_count": null,
   "id": "577bc6fd",
   "metadata": {},
   "outputs": [],
   "source": [
    "# List of shared cell types\n",
    "shared_cell_types = [\n",
    "    \"Acetylcholine\",\n",
    "    \"Acetylcholine/GABA\",\n",
    "    \"GABA\",\n",
    "    \"GABA/Glutamate\",\n",
    "    \"GABA/Serotonin\",\n",
    "    \"Glutamate\",\n",
    "    \"Serotonin\",\n",
    "    \"Serotonin/GABA\",\n",
    "    \"Monoamine\",\n",
    "    \"Monoamine/Acetylcholine\",\n",
    "    \"Monoamine/Serotonin\",\n",
    "    \"Monoamine/GABA\",\n",
    "    \"Immature_neurons\",\n",
    "    \"New-born_neurons/Immature_neurons\",\n",
    "    \"Unknown_mature_neurons\",\n",
    "    \"Neuroblasts\",\n",
    "    \"Neuroblasts/GMCs\",\n",
    "    \"Neuroblasts/GMCs/Immature_neurons\",\n",
    "    \"GMCs\",\n",
    "    \"GMCs/New-born_neurons/Immature_neurons\",\n",
    "    \"Neuroblasts/GMCs/New-born_neurons/Immature_neurons\",\n",
    "    \"Unknown\"\n",
    "]\n",
    "\n",
    "# Dictionary mapping cell types to colors\n",
    "shared_color_palette = {\n",
    "    # Acetylcholine-related\n",
    "    \"Acetylcholine\": \"#FFD700\",  # vivid gold\n",
    "    \"Acetylcholine/GABA\": \"#FFEE58\",  # sunflower yellow\n",
    "\n",
    "    # GABA-related\n",
    "    \"GABA\": \"#B71C1C\",  # dark red\n",
    "    \"GABA/Glutamate\": \"#D84315\",  # burnt orange-red\n",
    "    \"GABA/Serotonin\": \"#F06292\",  # deep pink\n",
    "    \"Serotonin/GABA\": \"#E91E63\",  # strong pink-rose\n",
    "    \"Monoamine/GABA\": \"#EF5350\",  # soft red-pink\n",
    "\n",
    "    # Glutamate-related\n",
    "    \"Glutamate\": \"#43A047\",  # strong green\n",
    "\n",
    "    # Serotonin-related\n",
    "    \"Serotonin\": \"#8E24AA\",  # deep purple\n",
    "\n",
    "    # Monoamine-related\n",
    "    \"Monoamine\": \"#FB8C00\",  # bright orange\n",
    "    \"Monoamine/Acetylcholine\": \"#FFA726\",  # soft orange\n",
    "    \"Monoamine/Serotonin\": \"#FF7043\",  # orange-coral\n",
    "\n",
    "    # Neuroblasts & GMCs\n",
    "    \"Neuroblasts\": \"#1565C0\",  # cobalt blue\n",
    "    \"Neuroblasts/GMCs\": \"#1E88E5\",  # vivid blue\n",
    "    \"Neuroblasts/GMCs/Immature_neurons\": \"#64B5F6\",  # sky blue\n",
    "    \"GMCs\": \"#0D47A1\",  # navy\n",
    "    \"GMCs/New-born_neurons/Immature_neurons\": \"#1976D2\",  # medium blue\n",
    "    \"Neuroblasts/GMCs/New-born_neurons/Immature_neurons\": \"#90CAF9\",  # pale blue\n",
    "\n",
    "    # Developmental/Immature/Unknown\n",
    "    \"Immature_neurons\": \"#29B6F6\",  # bright cyan\n",
    "    \"New-born_neurons/Immature_neurons\": \"#4DD0E1\",  # teal\n",
    "    \"Unknown_mature_neurons\": \"#757575\",  # neutral gray\n",
    "    \"Unknown\": \"#BDBDBD\"  # light gray\n",
    "}"
   ]
  },
  {
   "cell_type": "code",
   "execution_count": null,
   "id": "2fc86f62",
   "metadata": {},
   "outputs": [],
   "source": [
    "# =============================================================================\n",
    "# Define Input Files for the 16 Datasets (Full Dataset)\n",
    "# ============================================================================="
   ]
  },
  {
   "cell_type": "code",
   "execution_count": null,
   "id": "ff337569",
   "metadata": {},
   "outputs": [],
   "source": [
    "input_files = [\n",
    "    (\"hrs_00_03\", \"A1\", \"Rep1\"),\n",
    "    (\"hrs_00_03\", \"A9\", \"Rep2\"),\n",
    "    (\"hrs_02_05\", \"A2\", \"Rep1\"),\n",
    "    (\"hrs_02_05\", \"A10\", \"Rep2\"),\n",
    "    (\"hrs_04_07\", \"A3\", \"Rep1\"),\n",
    "    (\"hrs_04_07\", \"A11\", \"Rep2\"),\n",
    "    (\"hrs_05_08\", \"A4\", \"Rep1\"),\n",
    "    (\"hrs_05_08\", \"A12\", \"Rep2\"),\n",
    "    (\"hrs_06_10\", \"A5\", \"Rep1\"),\n",
    "    (\"hrs_06_10\", \"A13\", \"Rep2\"),\n",
    "    (\"hrs_09_13\", \"A6\", \"Rep1\"),\n",
    "    (\"hrs_09_13\", \"A14\", \"Rep2\"),\n",
    "    (\"hrs_12_17\", \"A7\", \"Rep1\"),\n",
    "    (\"hrs_12_17\", \"A15\", \"Rep2\"),\n",
    "    (\"hrs_16_22\", \"A8\", \"Rep1\"),\n",
    "    (\"hrs_16_22\", \"A16\", \"Rep2\")\n",
    "]"
   ]
  },
  {
   "cell_type": "code",
   "execution_count": null,
   "id": "d1d3ac31",
   "metadata": {},
   "outputs": [],
   "source": [
    "# =============================================================================\n",
    "# Load Loom Files into AnnData Objects and Concatenate (Full Dataset)\n",
    "# ============================================================================="
   ]
  },
  {
   "cell_type": "code",
   "execution_count": null,
   "id": "9fb9d2af",
   "metadata": {},
   "outputs": [],
   "source": [
    "adata_list = []\n",
    "common_genes = set()"
   ]
  },
  {
   "cell_type": "code",
   "execution_count": null,
   "id": "b1a931ca",
   "metadata": {},
   "outputs": [],
   "source": [
    "print(\"Reading loom files and creating AnnData objects for full dataset...\")\n",
    "for time, replicate, batch in input_files:\n",
    "    adata_name = f\"{time}_{replicate}\"\n",
    "    loom_dir = f\"/DataDrives/Drive2/Clifton/R_Projects/2025_Drosophila_scRNAseq_MonoamineSpecification/ANALYSIS/Step_1_CellRanger_and_Velocyto_Processing/02_Counts/{time}_{replicate}_{batch}/velocyto/{time}_{replicate}_{batch}.loom\"\n",
    "    \n",
    "    # Read the loom file with gene names and ensure unique variable names\n",
    "    adata = sc.read(loom_dir, var_names='Gene', cache=True)\n",
    "    adata.var_names_make_unique()\n",
    "    \n",
    "    # Save a copy of the raw counts in a separate layer\n",
    "    adata.layers['counts'] = adata.X.copy()\n",
    "    \n",
    "    # Add metadata for time, replicate, and batch\n",
    "    adata.obs['time'] = str(time)\n",
    "    adata.obs['time'] = adata.obs['time'].astype('category')\n",
    "    adata.obs['replicate'] = str(replicate)\n",
    "    adata.obs['replicate'] = adata.obs['replicate'].astype('category')\n",
    "    adata.obs['batch'] = str(batch)\n",
    "    adata.obs['batch'] = adata.obs['batch'].astype('category')\n",
    "    \n",
    "    # Update the common gene set\n",
    "    current_genes = set(adata.var_names)\n",
    "    print(f\"{adata_name}: {len(current_genes)} genes\")\n",
    "    common_genes = common_genes.union(current_genes)\n",
    "    \n",
    "    # Append the AnnData object to our list\n",
    "    adata_list.append(adata)\n",
    "    print(f\"Added {adata_name} to the list.\")"
   ]
  },
  {
   "cell_type": "code",
   "execution_count": null,
   "id": "21443cda",
   "metadata": {},
   "outputs": [],
   "source": [
    "# Concatenate all AnnData objects\n",
    "print(\"Concatenating all AnnData objects for full dataset...\")\n",
    "combined_adata = ad.concat(adata_list, index_unique=None, label=\"Neuronal Embryogenesis\", join=\"outer\")"
   ]
  },
  {
   "cell_type": "code",
   "execution_count": null,
   "id": "18c44e4d",
   "metadata": {},
   "outputs": [],
   "source": [
    "# =============================================================================\n",
    "# Process the Subset Dataset\n",
    "# ============================================================================="
   ]
  },
  {
   "cell_type": "code",
   "execution_count": null,
   "id": "70d2a7fa",
   "metadata": {},
   "outputs": [],
   "source": [
    "# Load the subset Seurat h5ad file\n",
    "adata_subset_seurat = sc.read_h5ad(\"4_mature_neuronal_subset_annotated.h5ad\")\n",
    "print(adata_subset_seurat)\n",
    "print(\"Subset cell metadata columns:\", adata_subset_seurat.obs.columns)\n",
    "print(\"Subset gene metadata columns:\", adata_subset_seurat.var.columns)\n",
    "print(\"Subset embeddings available:\", adata_subset_seurat.obsm.keys())"
   ]
  },
  {
   "cell_type": "code",
   "execution_count": null,
   "id": "03b870ff",
   "metadata": {},
   "outputs": [],
   "source": [
    "# Compare cell barcodes for the subset\n",
    "loom_barcodes = set(combined_adata.obs_names)\n",
    "seurat_subset_barcodes = set(adata_subset_seurat.obs_names)\n",
    "common_cells = loom_barcodes.intersection(seurat_subset_barcodes)\n",
    "loom_only_cells = loom_barcodes - common_cells\n",
    "seurat_only_cells = seurat_subset_barcodes - common_cells"
   ]
  },
  {
   "cell_type": "code",
   "execution_count": null,
   "id": "c981fa91",
   "metadata": {},
   "outputs": [],
   "source": [
    "print(f\"Total cells in subset adata_loom: {len(loom_barcodes)}\")\n",
    "print(f\"Total cells in adata_subset_seurat: {len(seurat_subset_barcodes)}\")\n",
    "print(f\"Number of matching cells in subset: {len(common_cells)}\")\n",
    "print(f\"Cells only in subset adata_loom: {len(loom_only_cells)}\")\n",
    "print(f\"Cells only in adata_subset_seurat: {len(seurat_only_cells)}\")\n",
    "print(\"Examples (subset adata_loom only):\", list(loom_only_cells)[:5])\n",
    "print(\"Examples (subset adata_subset_seurat only):\", list(seurat_only_cells)[:5])"
   ]
  },
  {
   "cell_type": "code",
   "execution_count": null,
   "id": "2fc28183",
   "metadata": {},
   "outputs": [],
   "source": [
    "# Subset both objects to the common cells for the subset\n",
    "combined_adata_common = combined_adata[list(common_cells)].copy()\n",
    "adata_seurat_common = adata_subset_seurat[list(common_cells)].copy()"
   ]
  },
  {
   "cell_type": "code",
   "execution_count": null,
   "id": "58a70de4",
   "metadata": {},
   "outputs": [],
   "source": [
    "# Align cells and genes for the subset\n",
    "combined_adata_common = combined_adata_common[adata_seurat_common.obs_names]\n",
    "combined_adata_common = combined_adata_common[:, adata_seurat_common.var_names]"
   ]
  },
  {
   "cell_type": "code",
   "execution_count": null,
   "id": "2551c95a",
   "metadata": {},
   "outputs": [],
   "source": [
    "# Save the common subset AnnData objects\n",
    "combined_adata_common.write(\"1_combined_adata_common_subset.h5ad\")\n",
    "adata_seurat_common.write(\"1_adata_seurat_common_subset.h5ad\")"
   ]
  },
  {
   "cell_type": "code",
   "execution_count": null,
   "id": "50c9e297",
   "metadata": {},
   "outputs": [],
   "source": [
    "# Clean up temporary variables\n",
    "del adata_list"
   ]
  },
  {
   "cell_type": "code",
   "execution_count": null,
   "id": "26179cad",
   "metadata": {},
   "outputs": [],
   "source": [
    "# Reload the common subset AnnData objects\n",
    "combined_adata_common = ad.read_h5ad(\"1_combined_adata_common_subset.h5ad\")\n",
    "adata_seurat_common = ad.read_h5ad(\"1_adata_seurat_common_subset.h5ad\")"
   ]
  },
  {
   "cell_type": "code",
   "execution_count": null,
   "id": "1dbc76e0",
   "metadata": {},
   "outputs": [],
   "source": [
    "# Merge the data for the subset as done for the full dataset\n",
    "adata = combined_adata_common.copy()\n",
    "adata.X = adata_seurat_common.X.copy()\n",
    "adata.layers = adata_seurat_common.layers.copy()\n",
    "adata.obs = adata_seurat_common.obs.copy()\n",
    "adata.var = adata_seurat_common.var.copy()\n",
    "for key in adata_seurat_common.obsm.keys():\n",
    "    adata.obsm[key] = adata_seurat_common.obsm[key].copy()\n",
    "\n",
    "adata.uns = adata_seurat_common.uns.copy()"
   ]
  },
  {
   "cell_type": "code",
   "execution_count": null,
   "id": "ba063d8d",
   "metadata": {},
   "outputs": [],
   "source": [
    "# Retain spliced/unspliced layers from the original combined loom data for the subset\n",
    "adata.layers['ambiguous'] = combined_adata_common.layers['ambiguous'].copy()\n",
    "adata.layers['matrix'] = combined_adata_common.layers['matrix'].copy()\n",
    "adata.layers['spliced'] = combined_adata_common.layers['spliced'].copy()\n",
    "adata.layers['unspliced'] = combined_adata_common.layers['unspliced'].copy()"
   ]
  },
  {
   "cell_type": "code",
   "execution_count": null,
   "id": "9bb05ad2",
   "metadata": {},
   "outputs": [],
   "source": [
    "adata.write(\"1_Velocity_Start_Data_subset.h5ad\")"
   ]
  },
  {
   "cell_type": "code",
   "execution_count": null,
   "id": "91fe9e66",
   "metadata": {},
   "outputs": [],
   "source": [
    "adata = sc.read_h5ad(\"1_Velocity_Start_Data_subset.h5ad\")"
   ]
  },
  {
   "cell_type": "code",
   "execution_count": null,
   "id": "ac1a1c8e",
   "metadata": {},
   "outputs": [],
   "source": [
    "adata"
   ]
  },
  {
   "cell_type": "code",
   "execution_count": null,
   "id": "dd2c1820",
   "metadata": {},
   "outputs": [],
   "source": [
    "# Get categories in the same order they appear in the AnnData object\n",
    "categories = adata.obs[\"neuronal_annotation_fine\"].unique().tolist()\n",
    "\n",
    "# Map them to colors\n",
    "color_pal_hex = [shared_color_palette[cat] for cat in categories]\n",
    "\n",
    "# Store in AnnData uns metadata\n",
    "adata.uns[\"neuronal_annotation_fine_colors\"] = color_pal_hex\n"
   ]
  },
  {
   "cell_type": "code",
   "execution_count": null,
   "id": "02ddc462",
   "metadata": {},
   "outputs": [],
   "source": [
    "import pandas as pd\n",
    "import scanpy as sc\n",
    "\n",
    "key = \"neuronal_annotation_fine\"\n",
    "\n",
    "# 1) Ensure the obs column is categorical in the order you want.\n",
    "#    Here we keep the *order of first appearance* in the data.\n",
    "if not pd.api.types.is_categorical_dtype(adata.obs[key]):\n",
    "    order = pd.unique(adata.obs[key])  # preserves first-seen order\n",
    "    adata.obs[key] = pd.Categorical(adata.obs[key], categories=order, ordered=True)\n",
    "\n",
    "# 2) Get the exact category order that Scanpy will use\n",
    "cats = adata.obs[key].cat.categories.tolist()\n",
    "\n",
    "# 3) Map categories to hex colors in that SAME order\n",
    "#    (will raise a clear error if a category is missing from your palette)\n",
    "try:\n",
    "    color_pal_hex = [shared_color_palette[c] for c in cats]\n",
    "except KeyError as e:\n",
    "    missing = str(e).strip(\"'\")\n",
    "    raise KeyError(f\"Category '{missing}' missing from shared_color_palette\")\n",
    "\n",
    "# 4) Store in .uns using the Scanpy naming convention\n",
    "adata.uns[f\"{key}_colors\"] = color_pal_hex\n",
    "\n",
    "# 5) Plot\n",
    "sc.pl.umap(\n",
    "    adata,\n",
    "    color=key,\n",
    "    legend_loc=\"right margin\",\n",
    "    size=80,\n",
    "    save=\"_mature_neuronal_subset_annotation.svg\",\n",
    ")\n",
    "sc.pl.umap(\n",
    "    adata,\n",
    "    color=key,\n",
    "    legend_loc=\"right margin\",\n",
    "    size=80,\n",
    "    save=\"_mature_neuronal_subset_annotation.pdf\",\n",
    ")"
   ]
  },
  {
   "cell_type": "code",
   "execution_count": null,
   "id": "ab11fa28",
   "metadata": {},
   "outputs": [],
   "source": [
    "# Plot proportions grouped by timepoint, and save the figure\n",
    "scv.pl.proportions(adata, groupby=\"timepoint\", \n",
    "                   save='proportions_timepoint_subset.svg', dpi=300)\n",
    "# Plot proportions grouped by timepoint, and save the figure\n",
    "scv.pl.proportions(adata, groupby=\"timepoint\", \n",
    "                   save='proportions_timepoint_subset.pdf', dpi=300)"
   ]
  },
  {
   "cell_type": "code",
   "execution_count": null,
   "id": "cd97a2e9",
   "metadata": {},
   "outputs": [],
   "source": [
    "# Define your list of genes of interest.\n",
    "genes_of_interest = [\n",
    "    \"Trh\",\n",
    "    \"Ddc\",\n",
    "    \"Vmat\",\n",
    "    \"SerT\",\n",
    "    \"elav\", \"nSyb\", \"Syn\", \"Syt1\", \"Syt4\",  \n",
    "    \"DAT\",\n",
    "    \"Tbh\",\n",
    "    \"Tdc1\",\n",
    "    \"Tdc2\",\n",
    "    \"ple\",\n",
    "    \"5-HT1A\",\n",
    "    \"5-HT1B\",\n",
    "    \"5-HT2A\",\n",
    "    \"5-HT2B\",\n",
    "    \"5-HT7\", \"Dop1R1\", \"Dop1R2\", \"Dop2R\", \"DopEcR\",\n",
    "    \"Tbh\",\n",
    "    \"CG4328\",\n",
    "    \"Lmx1a\",\n",
    "    \"Ets65A\",\n",
    "    \"vvl\",\n",
    "    \"salm\",\n",
    "    \"salr\",\n",
    "    \"CG32532\", \"dmrt99B\", \"fd59A\", \"scro\", \"Fer2\", \n",
    "    \"Tdc2\",\n",
    "    \"SerT\",\n",
    "    \"DAT\",\n",
    "    \"Hdc\",\n",
    "    \"HisCl1\", \n",
    "    \"Oct-TyrR\", \n",
    "    \"Octbeta1R\", \n",
    "    \"Octbeta3R\", \n",
    "    \"Oamb\", \n",
    "    \"Octbeta2R\", \n",
    "    \"Octalpha2R\", \n",
    "    \"TyrR\", \n",
    "    \"TyrRII\"\n",
    "]"
   ]
  },
  {
   "cell_type": "code",
   "execution_count": null,
   "id": "96b5acbb",
   "metadata": {},
   "outputs": [],
   "source": [
    "# Check which genes are present in the dataset.\n",
    "genes_present = [gene for gene in genes_of_interest if gene in adata.var_names]\n",
    "missing_genes   = [gene for gene in genes_of_interest if gene not in adata.var_names]"
   ]
  },
  {
   "cell_type": "code",
   "execution_count": null,
   "id": "14a90ab4",
   "metadata": {},
   "outputs": [],
   "source": [
    "# Print the lists to see the results:\n",
    "print(\"Genes present in the dataset:\", genes_present)\n",
    "print(\"Genes missing from the dataset:\", missing_genes)"
   ]
  },
  {
   "cell_type": "code",
   "execution_count": null,
   "id": "5fa2c726",
   "metadata": {},
   "outputs": [],
   "source": [
    "# Filter and normalize\n",
    "scv.pp.filter_and_normalize(adata, min_shared_counts=5, retain_genes = genes_of_interest, n_top_genes=8000, subset_highly_variable=False)"
   ]
  },
  {
   "cell_type": "code",
   "execution_count": null,
   "id": "3ae056f3",
   "metadata": {},
   "outputs": [],
   "source": [
    "# Compute neighbors and moments\n",
    "sc.pp.neighbors(adata, n_pcs=100, n_neighbors=30, random_state=0)\n",
    "scv.pp.moments(adata, n_pcs=100, n_neighbors=30)"
   ]
  },
  {
   "cell_type": "code",
   "execution_count": null,
   "id": "c5357ae6",
   "metadata": {},
   "outputs": [],
   "source": [
    "adata.write(\"2_Velocity_Processing_subset.h5ad\")"
   ]
  },
  {
   "cell_type": "code",
   "execution_count": null,
   "id": "894622b9",
   "metadata": {},
   "outputs": [],
   "source": [
    "adata = sc.read_h5ad(\"2_Velocity_Processing_subset.h5ad\")"
   ]
  },
  {
   "cell_type": "code",
   "execution_count": null,
   "id": "a3fe82e8",
   "metadata": {},
   "outputs": [],
   "source": [
    "scv.tl.recover_dynamics(adata, n_jobs=64, show_progress_bar=True)"
   ]
  },
  {
   "cell_type": "code",
   "execution_count": null,
   "id": "12d0eb11",
   "metadata": {},
   "outputs": [],
   "source": [
    "scv.tl.velocity(adata, mode='dynamical')"
   ]
  },
  {
   "cell_type": "code",
   "execution_count": null,
   "id": "3ebebb8d",
   "metadata": {},
   "outputs": [],
   "source": [
    "scv.tl.velocity_graph(adata)"
   ]
  },
  {
   "cell_type": "code",
   "execution_count": null,
   "id": "824762b2",
   "metadata": {},
   "outputs": [],
   "source": [
    "adata.write(\"3_Velocity_scVelo_Dynamical_subset.h5ad\")"
   ]
  },
  {
   "cell_type": "code",
   "execution_count": null,
   "id": "db544d76",
   "metadata": {},
   "outputs": [],
   "source": [
    "# Load AnnData\n",
    "adata = sc.read_h5ad(\"3_Velocity_scVelo_Dynamical_subset.h5ad\")"
   ]
  },
  {
   "cell_type": "code",
   "execution_count": null,
   "id": "dd5f3c14",
   "metadata": {},
   "outputs": [],
   "source": [
    "# ------------------------------------------------------------------------------\n",
    "# Velocity embedding stream by 'neuronal_annotation_fine' with custom colors\n",
    "scv.pl.velocity_embedding_stream(\n",
    "    adata, \n",
    "    basis='X_umap', \n",
    "    color='neuronal_annotation_fine', \n",
    "    dpi=300, \n",
    "    save=\"subset_annotated_clusters.svg\", \n",
    "    legend_loc='right margin'\n",
    ")\n",
    "# ------------------------------------------------------------------------------\n",
    "# Velocity embedding stream by 'neuronal_annotation_fine' with custom colors\n",
    "scv.pl.velocity_embedding_stream(\n",
    "    adata, \n",
    "    basis='X_umap', \n",
    "    color='neuronal_annotation_fine', \n",
    "    dpi=300, \n",
    "    save=\"subset_annotated_clusters.pdf\", \n",
    "    legend_loc='right margin'\n",
    ")"
   ]
  },
  {
   "cell_type": "code",
   "execution_count": null,
   "id": "ac33fe21",
   "metadata": {},
   "outputs": [],
   "source": [
    "# ------------------------------------------------------------------------------\n",
    "# 2. Load timepoint color mapping and assign custom colors for timepoint annotation\n",
    "color_df = pd.read_csv(\"/DataDrives/Drive2/Clifton/R_Projects/2025_Drosophila_scRNAseq_MonoamineSpecification/ANALYSIS/Step_2_Initial_preprocessing/Supplementary_Data/timepoint2colour_mapping.csv\")\n",
    "time2color = dict(zip(color_df[\"Label\"], color_df[\"Color\"]))\n",
    "# Assign a color for each cell's timepoint; defaulting to black (\"#000000\") if not found\n",
    "adata.uns[\"timepoint_colors\"] = [time2color.get(tp, \"#000000\") for tp in adata.obs[\"timepoint\"]]"
   ]
  },
  {
   "cell_type": "code",
   "execution_count": null,
   "id": "f04213f0",
   "metadata": {},
   "outputs": [],
   "source": [
    "# Use the timepoint mapping as the palette\n",
    "palette_time = time2color"
   ]
  },
  {
   "cell_type": "code",
   "execution_count": null,
   "id": "2cf6e5c1",
   "metadata": {},
   "outputs": [],
   "source": [
    "# Plot velocity embedding stream by 'timepoint' with the custom timepoint palette\n",
    "scv.pl.velocity_embedding_stream(\n",
    "    adata, \n",
    "    basis='X_umap', \n",
    "    color='timepoint', \n",
    "    palette=palette_time, \n",
    "    dpi=300, \n",
    "    save=\"subset_timepoint.svg\", \n",
    "    legend_loc='right margin'\n",
    ")\n",
    "# Plot velocity embedding stream by 'timepoint' with the custom timepoint palette\n",
    "scv.pl.velocity_embedding_stream(\n",
    "    adata, \n",
    "    basis='X_umap', \n",
    "    color='timepoint', \n",
    "    palette=palette_time, \n",
    "    dpi=300, \n",
    "    save=\"subset_timepoint.pdf\", \n",
    "    legend_loc='right margin'\n",
    ")"
   ]
  },
  {
   "cell_type": "code",
   "execution_count": null,
   "id": "cd5bf0f9",
   "metadata": {},
   "outputs": [],
   "source": [
    "# Plot UMAP colored by 'timepoint' and save the figure\n",
    "sc.pl.umap(\n",
    "    adata, \n",
    "    color='timepoint', \n",
    "    palette=palette_time, \n",
    "    legend_loc='right margin', \n",
    "    size=80, \n",
    "    save='subset_timepoint.svg'\n",
    ")\n",
    "# Plot UMAP colored by 'timepoint' and save the figure\n",
    "sc.pl.umap(\n",
    "    adata, \n",
    "    color='timepoint', \n",
    "    palette=palette_time, \n",
    "    legend_loc='right margin', \n",
    "    size=80, \n",
    "    save='subset_timepoint.pdf'\n",
    ")"
   ]
  },
  {
   "cell_type": "code",
   "execution_count": null,
   "id": "1d3fb074",
   "metadata": {},
   "outputs": [],
   "source": [
    "# ------------------------------------------------------------------------------\n",
    "# 3. Plot and save UMAP colored by 'neuronal_annotation_fine'\n",
    "sc.pl.umap(\n",
    "    adata, \n",
    "    color='neuronal_annotation_fine', \n",
    "    legend_loc='right margin', \n",
    "    size=80, \n",
    "    save='_subset_annotation.svg'\n",
    ")\n",
    "# ------------------------------------------------------------------------------\n",
    "# 3. Plot and save UMAP colored by 'neuronal_annotation_fine'\n",
    "sc.pl.umap(\n",
    "    adata, \n",
    "    color='neuronal_annotation_fine', \n",
    "    legend_loc='right margin', \n",
    "    size=80, \n",
    "    save='_subset_annotation.pdf'\n",
    ")"
   ]
  },
  {
   "cell_type": "code",
   "execution_count": null,
   "id": "ebf184b2",
   "metadata": {},
   "outputs": [],
   "source": [
    "# ------------------------------------------------------------------------------\n",
    "# 4. Create histograms for fit parameters (transcription, splicing, degradation rates)\n",
    "df = adata.var.copy()\n",
    "df = df[(df['fit_likelihood'] > 0.1) & (df['velocity_genes'] == True)]"
   ]
  },
  {
   "cell_type": "code",
   "execution_count": null,
   "id": "f1fbf187",
   "metadata": {},
   "outputs": [],
   "source": [
    "kwargs = dict(xscale='log', fontsize=16)\n",
    "with scv.GridSpec(ncols=3) as pl:\n",
    "    pl.hist(df['fit_alpha'], xlabel='transcription rate', **kwargs)\n",
    "    pl.hist(df['fit_beta'] * df['fit_scaling'], xlabel='splicing rate', xticks=[0.1, 0.4, 1], **kwargs)\n",
    "    pl.hist(df['fit_gamma'], xlabel='degradation rate', xticks=[0.1, 0.4, 1], **kwargs)"
   ]
  },
  {
   "cell_type": "code",
   "execution_count": null,
   "id": "ad4075a4",
   "metadata": {},
   "outputs": [],
   "source": [
    "# Optionally, print head of all fit parameters\n",
    "print(scv.get_df(adata, 'fit*', dropna=True).head())"
   ]
  },
  {
   "cell_type": "code",
   "execution_count": null,
   "id": "98afe6e7",
   "metadata": {},
   "outputs": [],
   "source": [
    "# ------------------------------------------------------------------------------\n",
    "# 5. Compute latent time and plot the scatter colored by latent time\n",
    "# Set the root cell based on timepoint \"hrs_00_03\"\n",
    "# Find the first cell that belongs to this timepoint\n",
    "root_cell_index = np.flatnonzero(adata.obs[\"timepoint\"] == \"hrs_00_03\")[0]\n",
    "adata.uns['iroot'] = root_cell_index"
   ]
  },
  {
   "cell_type": "code",
   "execution_count": null,
   "id": "e36ae93f",
   "metadata": {},
   "outputs": [],
   "source": [
    "scv.tl.latent_time(adata)"
   ]
  },
  {
   "cell_type": "code",
   "execution_count": null,
   "id": "0556cca2",
   "metadata": {},
   "outputs": [],
   "source": [
    "scv.pl.scatter(\n",
    "    adata, \n",
    "    color='latent_time', \n",
    "    color_map='gnuplot', \n",
    "    size=80, \n",
    "    save='latent_time.svg'\n",
    ")\n",
    "scv.pl.scatter(\n",
    "    adata, \n",
    "    color='latent_time', \n",
    "    color_map='gnuplot', \n",
    "    size=80, \n",
    "    save='latent_time.pdf'\n",
    ")"
   ]
  },
  {
   "cell_type": "code",
   "execution_count": null,
   "id": "242fa562",
   "metadata": {},
   "outputs": [],
   "source": [
    "# ------------------------------------------------------------------------------\n",
    "# 6. Top 500 genes based on fit_likelihood and heatmap\n",
    "top_genes = adata.var['fit_likelihood'].sort_values(ascending=False).index[:500]"
   ]
  },
  {
   "cell_type": "code",
   "execution_count": null,
   "id": "4549660a",
   "metadata": {},
   "outputs": [],
   "source": [
    "# GO for top dynamical genes (for R GO analysis)\n",
    "import numpy as np\n",
    "import pandas as pd\n",
    "from tqdm import tqdm  # progress bar\n",
    "\n",
    "# 1) choose the “dynamical” genes and the background\n",
    "dyn_genes = adata.var_names[adata.var['fit_likelihood'] > 0.1]   # tweak threshold\n",
    "background = adata.var_names[~adata.var['fit_likelihood'].isna()]  # all tested\n",
    "\n",
    "# 2) assign each dynamical gene a latent-time “peak”\n",
    "lt = adata.obs['latent_time'].values\n",
    "\n",
    "def gene_peak_time(g):\n",
    "    # use expression layer you trust (\"X\", \"spliced\", \"Ms\", etc.)\n",
    "    x = adata[:, g].layers.get(\"spliced\", adata[:, g].X).A.ravel() if hasattr(adata[:, g].X, \"A\") else np.array(adata[:, g].X).ravel()\n",
    "    return lt[np.argmax(x)]\n",
    "\n",
    "# Added tqdm progress bar here\n",
    "peaks = {g: gene_peak_time(g) for g in tqdm(dyn_genes, desc=\"Calculating peak times\")}\n",
    "\n",
    "# 3) bin genes by peak latent time\n",
    "k = 20  # number of bins\n",
    "quantiles = pd.qcut(pd.Series(peaks), q=k, labels=False, duplicates='drop')\n",
    "\n",
    "# 5) write per-bin gene lists + background as plain text\n",
    "bins = []\n",
    "for b in sorted(quantiles.unique()):\n",
    "    genes_in_bin = [g for g, bb in quantiles.items() if bb == b]\n",
    "    bins.append((b, genes_in_bin))\n",
    "    with open(f\"genes_bin_{b}.txt\", \"w\") as fh:\n",
    "        fh.write(\"\\n\".join(genes_in_bin))\n",
    "\n",
    "with open(\"genes_background.txt\", \"w\") as fh:\n",
    "    fh.write(\"\\n\".join(background))\n"
   ]
  },
  {
   "cell_type": "code",
   "execution_count": null,
   "id": "863e7aaa",
   "metadata": {},
   "outputs": [],
   "source": [
    "dyn_genes = adata.var_names[adata.var['fit_likelihood'] > 0.1]  \n",
    "print(len(dyn_genes))\n",
    "\n",
    "gene_peak_time = {}\n",
    "lt = adata.obs['latent_time'].values  # cache latent time outside the loop\n",
    "\n",
    "for gene in tqdm(dyn_genes, desc=\"Calculating peak latent times\"):\n",
    "    expr = adata[:, gene].layers[\"spliced\"].toarray().flatten()  # or \"X\"\n",
    "    peak_time = lt[np.argmax(expr)]\n",
    "    gene_peak_time[gene] = peak_time\n",
    "\n",
    "gene_peak_df = pd.DataFrame.from_dict(\n",
    "    gene_peak_time,\n",
    "    orient='index',\n",
    "    columns=['peak_latent_time']\n",
    ")"
   ]
  },
  {
   "cell_type": "code",
   "execution_count": null,
   "id": "2fe4178c",
   "metadata": {},
   "outputs": [],
   "source": [
    "# Split into 20 equal bins\n",
    "gene_peak_df['bin'] = pd.qcut(gene_peak_df['peak_latent_time'], q=20, labels=False)"
   ]
  },
  {
   "cell_type": "code",
   "execution_count": null,
   "id": "b84d59c0",
   "metadata": {},
   "outputs": [],
   "source": [
    "from gprofiler import GProfiler\n",
    "gp = GProfiler(return_dataframe=True)\n",
    "\n",
    "for b in sorted(gene_peak_df['bin'].unique()):\n",
    "    genes_in_bin = gene_peak_df.index[gene_peak_df['bin'] == b].tolist()\n",
    "    if len(genes_in_bin) >= 5:  # avoid tiny bins\n",
    "        res = gp.profile(\n",
    "            organism='dmelanogaster',  # or dmelanogaster, hsapiens, etc.\n",
    "            query=genes_in_bin\n",
    "        )\n",
    "        res.to_csv(f\"GO_bin_{b}.csv\", index=False)\n"
   ]
  },
  {
   "cell_type": "code",
   "execution_count": null,
   "id": "1e26323a",
   "metadata": {},
   "outputs": [],
   "source": [
    "import glob\n",
    "import pandas as pd\n",
    "import numpy as np\n",
    "import matplotlib.pyplot as plt\n",
    "from textwrap import fill\n",
    "\n",
    "# --- Config ---\n",
    "in_pattern = \"GO_bin_*.csv\"\n",
    "top_per_bin = 10\n",
    "term_col = \"name\"              # <-- changed from \"term_name\"\n",
    "pval_col = \"p_value\"           # <-- changed from \"p_value_adjusted\"\n",
    "bin_label = lambda path: path.split(\"_\")[-1].split(\".\")[0]\n",
    "\n",
    "# --- Load & pick top terms per bin ---\n",
    "tables = {}\n",
    "for path in sorted(glob.glob(in_pattern)):\n",
    "    df = pd.read_csv(path)\n",
    "    df = df.sort_values(pval_col, ascending=True)\n",
    "    tables[bin_label(path)] = df.head(top_per_bin).copy()\n",
    "\n",
    "# --- Build union of terms ---\n",
    "all_terms = pd.Index(sorted(set().union(*[set(t[term_col]) for t in tables.values()])))\n",
    "bins = list(tables.keys())\n",
    "\n",
    "# --- Assemble matrix of -log10(p) ---\n",
    "M = pd.DataFrame(0.0, index=all_terms, columns=bins)\n",
    "for b, df in tables.items():\n",
    "    M.loc[df[term_col], b] = (-np.log10(df[pval_col].clip(lower=1e-300))).values\n",
    "\n",
    "# Optional: order rows by the column where each term peaks\n",
    "order = M.values.argmax(axis=1)\n",
    "M = M.iloc[np.argsort(order)]\n",
    "\n",
    "# --- Plot ---\n",
    "plt.figure(figsize=(10, max(4, 0.35*len(M))))\n",
    "plt.imshow(M.values, aspect='auto', interpolation='nearest')\n",
    "plt.xticks(range(len(bins)), bins, rotation=0)\n",
    "labels = [fill(t, width=40) for t in M.index]\n",
    "plt.yticks(range(len(M)), labels)\n",
    "plt.xlabel(\"Latent time bin\")\n",
    "plt.title(\"GO enrichment by bin (−log10 p)\")\n",
    "cbar = plt.colorbar()\n",
    "cbar.set_label(\"−log10 p\")\n",
    "plt.tight_layout()\n",
    "plt.show()\n"
   ]
  },
  {
   "cell_type": "code",
   "execution_count": null,
   "id": "87d3cfa4",
   "metadata": {},
   "outputs": [],
   "source": [
    "# Generate a heatmap of the top genes, sorted by latent time.\n",
    "scv.pl.heatmap(\n",
    "    adata, \n",
    "    var_names=top_genes, \n",
    "    sortby='latent_time',\n",
    "    col_color='neuronal_annotation_fine',  # set the column color annotation to neuronal_annotation_fine\n",
    "    n_convolve=100, \n",
    "    palette=color_pal_hex, \n",
    "    save='_dynamicalgenes500_neuronal_annotation.pdf',\n",
    "figsize=(12, 8)\n",
    ")"
   ]
  },
  {
   "cell_type": "code",
   "execution_count": null,
   "id": "d3f6f5dd",
   "metadata": {},
   "outputs": [],
   "source": [
    "# ------------------------------------------------------------------------------\n",
    "# 7. Rank dynamical genes by 'neuronal_annotation_fine'\n",
    "scv.tl.rank_dynamical_genes(adata, groupby='neuronal_annotation_fine')\n",
    "ranked_df = scv.get_df(adata, 'rank_dynamical_genes/names')\n",
    "print(ranked_df.head(5))\n",
    "\n",
    "# Save the ranked dynamical genes DataFrame to CSV\n",
    "ranked_df.to_csv(\"ranked_dynamical_genes.csv\", index=False)"
   ]
  },
  {
   "cell_type": "code",
   "execution_count": null,
   "id": "f5eb55aa",
   "metadata": {},
   "outputs": [],
   "source": [
    "import re\n",
    "\n",
    "selected_categories = ['Monoamine', 'Monoamine/GABA', 'GABA', 'Acetylcholine', 'Glutamate', \"GABA/Glutamate\"]\n",
    "\n",
    "def sanitize_filename(name):\n",
    "    # Replace any non-alphanumeric or underscore character with underscore\n",
    "    return re.sub(r'[^\\w\\-\\.]', '_', name)\n",
    "\n",
    "for category in selected_categories:\n",
    "    if category in ranked_df.columns:\n",
    "        # Take the top 5 genes for this category (drop any NaN values)\n",
    "        genes_to_plot = ranked_df[category].dropna().tolist()[:5]\n",
    "        if genes_to_plot:  # Only plot if list is non-empty\n",
    "            safe_category = sanitize_filename(category)\n",
    "            scv.pl.scatter(\n",
    "                adata, \n",
    "                genes_to_plot, \n",
    "                ylabel=category, \n",
    "                frameon=False, \n",
    "                save=f'_{safe_category}_scatter.svg'\n",
    "            )\n",
    "\n",
    "for category in selected_categories:\n",
    "    if category in ranked_df.columns:\n",
    "        # Take the top 5 genes for this category (drop any NaN values)\n",
    "        genes_to_plot = ranked_df[category].dropna().tolist()[:5]\n",
    "        if genes_to_plot:  # Only plot if list is non-empty\n",
    "            safe_category = sanitize_filename(category)\n",
    "            scv.pl.scatter(\n",
    "                adata, \n",
    "                genes_to_plot, \n",
    "                ylabel=category, \n",
    "                frameon=False, \n",
    "                save=f'_{safe_category}_scatter.pdf'\n",
    "            )\n"
   ]
  },
  {
   "cell_type": "code",
   "execution_count": null,
   "id": "23ac61ff",
   "metadata": {},
   "outputs": [],
   "source": [
    "# -------------------------------------------------------------------------------\n",
    "# 9. Rank velocity genes grouped by 'neuronal_annotation_fine'\n",
    "scv.tl.rank_velocity_genes(adata, groupby='neuronal_annotation_fine', min_corr=0.3)\n",
    "# Create a DataFrame from the gene names ranked for each group\n",
    "df = pd.DataFrame(adata.uns['rank_velocity_genes']['names'])\n",
    "# Save the ranked velocity genes to a CSV file\n",
    "df.to_csv('top_velocity_genes_neuronal_annotation_fine.csv', index=False)"
   ]
  },
  {
   "cell_type": "code",
   "execution_count": null,
   "id": "4186b8e5",
   "metadata": {},
   "outputs": [],
   "source": [
    "# -------------------------------------------------------------------------------\n",
    "# 10. Calculate velocity confidence and plot scatter of velocity length and confidence\n",
    "scv.tl.velocity_confidence(adata)\n",
    "keys = ('velocity_length', 'velocity_confidence')\n",
    "scv.pl.scatter(\n",
    "    adata, \n",
    "    c=keys, \n",
    "    cmap='coolwarm', \n",
    "    perc=[5, 95], \n",
    "    dpi=300, \n",
    "    save='velocity_length_and_confidence.svg'\n",
    ")\n",
    "scv.pl.scatter(\n",
    "    adata, \n",
    "    c=keys, \n",
    "    cmap='coolwarm', \n",
    "    perc=[5, 95], \n",
    "    dpi=300, \n",
    "    save='velocity_length_and_confidence.pdf'\n",
    ")"
   ]
  },
  {
   "cell_type": "code",
   "execution_count": null,
   "id": "f769b3f5",
   "metadata": {},
   "outputs": [],
   "source": [
    "# -------------------------------------------------------------------------------\n",
    "# 11. Cell transitions plot: Compute cell transitions and overlay the velocity graph\n",
    "# Use the previously computed root cell if available; otherwise, default to 0.\n",
    "starting_cell = adata.uns.get('iroot', 0)\n",
    "\n",
    "# Compute cell transitions coordinates using the selected starting cell\n",
    "x, y = scv.utils.get_cell_transitions(adata, basis='umap', starting_cell=starting_cell)\n",
    "\n",
    "# First, generate the velocity graph without immediately displaying it\n",
    "ax = scv.pl.velocity_graph(adata, c='lightgrey', edge_width=0.05, show=False)\n",
    "\n",
    "# Then, overlay a scatter plot on the velocity graph and save the figure as an SVG\n",
    "ax = scv.pl.scatter(\n",
    "    adata, \n",
    "    x=x, y=y, \n",
    "    s=120, \n",
    "    c='ascending', \n",
    "    cmap='gnuplot', \n",
    "    ax=ax, \n",
    "    save='cell_transitions.svg'\n",
    ")\n",
    "ax = scv.pl.scatter(\n",
    "    adata, \n",
    "    x=x, y=y, \n",
    "    s=120, \n",
    "    c='ascending', \n",
    "    cmap='gnuplot', \n",
    "    ax=ax, \n",
    "    save='cell_transitions.pdf'\n",
    ")"
   ]
  },
  {
   "cell_type": "code",
   "execution_count": null,
   "id": "82923c4d",
   "metadata": {},
   "outputs": [],
   "source": [
    "# -------------------------------------------------------------------------------\n",
    "# 12. Compute velocity pseudotime and plot scatter colored by pseudotime\n",
    "scv.tl.velocity_pseudotime(adata)\n",
    "scv.pl.scatter(\n",
    "    adata, \n",
    "    color='velocity_pseudotime', \n",
    "    cmap='gnuplot', \n",
    "    save='velocity_pseudotime.svg'\n",
    ")\n",
    "scv.pl.scatter(\n",
    "    adata, \n",
    "    color='velocity_pseudotime', \n",
    "    cmap='gnuplot', \n",
    "    save='velocity_pseudotime.pdf'\n",
    ")"
   ]
  },
  {
   "cell_type": "code",
   "execution_count": null,
   "id": "6f626ef6",
   "metadata": {},
   "outputs": [],
   "source": [
    "adata.write(\"4_Velocity_scVelo_processed_subset.h5ad\")"
   ]
  },
  {
   "cell_type": "code",
   "execution_count": null,
   "id": "5a5cf8ba",
   "metadata": {},
   "outputs": [],
   "source": [
    "# Load AnnData\n",
    "adata = sc.read_h5ad(\"4_Velocity_scVelo_processed_subset.h5ad\")"
   ]
  },
  {
   "cell_type": "code",
   "execution_count": null,
   "id": "e4695a1d",
   "metadata": {},
   "outputs": [],
   "source": [
    "# Define your list of genes of interest.\n",
    "genes_of_interest = [\n",
    "    \"Trh\",\n",
    "    \"Ddc\",\n",
    "    \"Vmat\",\n",
    "    \"SerT\",\n",
    "    \"elav\", \"nSyb\", \"Syn\", \"Syt1\", \"Syt4\",  \n",
    "    \"DAT\",\n",
    "    \"Tbh\",\n",
    "    \"Tdc1\",\n",
    "    \"Tdc2\",\n",
    "    \"ple\",\n",
    "    \"5-HT1A\",\n",
    "    \"5-HT1B\",\n",
    "    \"5-HT2A\",\n",
    "    \"5-HT2B\",\n",
    "    \"5-HT7\", \"Dop1R1\", \"Dop1R2\", \"Dop2R\", \"DopEcR\",\n",
    "    \"Tbh\",\n",
    "    \"CG4328\",\n",
    "    \"Lmx1a\",\n",
    "    \"Ets65A\",\n",
    "    \"vvl\",\n",
    "    \"salm\",\n",
    "    \"salr\",\n",
    "    \"CG32532\", \"dmrt99B\", \"fd59A\", \"scro\", \"Fer2\", \n",
    "    \"Tdc2\",\n",
    "    \"SerT\",\n",
    "    \"DAT\",\n",
    "    \"Hdc\",\n",
    "    \"HisCl1\", \n",
    "    \"Oct-TyrR\", \n",
    "    \"Octbeta1R\", \n",
    "    \"Octbeta3R\", \n",
    "    \"Oamb\", \n",
    "    \"Octbeta2R\", \n",
    "    \"Octalpha2R\", \n",
    "    \"TyrR\", \n",
    "    \"TyrRII\"\n",
    "]\n",
    "\n",
    "# Add any additional genes that you want to include, which are not in the list above.\n",
    "extra_genes = [\"elav\", \"nSyb\", \"Syn\", \"Syt1\", \"Syt4\"]\n",
    "genes_of_interest.extend(extra_genes)"
   ]
  },
  {
   "cell_type": "code",
   "execution_count": null,
   "id": "7d592321",
   "metadata": {},
   "outputs": [],
   "source": [
    "# Loop over the genes_of_interest list and plot velocity for each gene.\n",
    "for gene in genes_of_interest:\n",
    "    # Sanitize gene name for filename (remove characters like '-' or '/')\n",
    "    safe_gene = gene.replace(\"/\", \"\").replace(\" \", \"\")\n",
    "    scv.pl.velocity(\n",
    "        adata, \n",
    "        [gene], \n",
    "        save=f'{safe_gene}_velocity_subset.svg', \n",
    "        dpi=300\n",
    "    )"
   ]
  }
 ],
 "metadata": {
  "kernelspec": {
   "display_name": "scvelo_env",
   "language": "python",
   "name": "python3"
  },
  "language_info": {
   "codemirror_mode": {
    "name": "ipython",
    "version": 3
   },
   "file_extension": ".py",
   "mimetype": "text/x-python",
   "name": "python",
   "nbconvert_exporter": "python",
   "pygments_lexer": "ipython3",
   "version": "3.10.18"
  }
 },
 "nbformat": 4,
 "nbformat_minor": 5
}
